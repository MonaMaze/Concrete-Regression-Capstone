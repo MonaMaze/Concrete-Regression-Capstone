{
 "cells": [
  {
   "cell_type": "markdown",
   "metadata": {
    "id": "JhqPYLNyv4kb"
   },
   "source": [
    "# Concrete Compressive Strength.\n",
    "\n",
    "Compressive strength or compression strength is the capacity of a material or structure to withstand loads tending to reduce size, as opposed to tensile strength, which withstands loads tending to elongate.\n",
    "\n",
    "Compressive strength is one of the most important engineering properties of concrete. It is a standard industrial practice that the concrete is classified based on grades. This grade is nothing but the Compressive Strength of the concrete cube or cylinder. Cube or Cylinder samples are usually tested under a compression testing machine to obtain the compressive strength of concrete. The test requisites differ country to country based on the design code."
   ]
  },
  {
   "cell_type": "markdown",
   "metadata": {
    "id": "juJMyh4vWXUj"
   },
   "source": [
    "Here is your Required [Data ](https://drive.google.com/file/d/1Csmy8fz4BDM70wD07XJYKPqOr8BAPfzE/view?usp=sharing)\n",
    "# **Good Luck**"
   ]
  },
  {
   "cell_type": "code",
   "execution_count": 1,
   "metadata": {
    "id": "c977lpgIv1BL"
   },
   "outputs": [],
   "source": [
    "# Importing the libraries\n",
    "import numpy as np\n",
    "import matplotlib.pyplot as plt\n",
    "import pandas as pd\n",
    "import seaborn as sns; sns.set()\n",
    "import sklearn\n",
    "import xlrd"
   ]
  },
  {
   "cell_type": "code",
   "execution_count": 2,
   "metadata": {},
   "outputs": [
    {
     "data": {
      "text/html": [
       "<div>\n",
       "<style scoped>\n",
       "    .dataframe tbody tr th:only-of-type {\n",
       "        vertical-align: middle;\n",
       "    }\n",
       "\n",
       "    .dataframe tbody tr th {\n",
       "        vertical-align: top;\n",
       "    }\n",
       "\n",
       "    .dataframe thead th {\n",
       "        text-align: right;\n",
       "    }\n",
       "</style>\n",
       "<table border=\"1\" class=\"dataframe\">\n",
       "  <thead>\n",
       "    <tr style=\"text-align: right;\">\n",
       "      <th></th>\n",
       "      <th>Cement (component 1)(kg in a m^3 mixture)</th>\n",
       "      <th>Blast Furnace Slag (component 2)(kg in a m^3 mixture)</th>\n",
       "      <th>Fly Ash (component 3)(kg in a m^3 mixture)</th>\n",
       "      <th>Water  (component 4)(kg in a m^3 mixture)</th>\n",
       "      <th>Superplasticizer (component 5)(kg in a m^3 mixture)</th>\n",
       "      <th>Coarse Aggregate  (component 6)(kg in a m^3 mixture)</th>\n",
       "      <th>Fine Aggregate (component 7)(kg in a m^3 mixture)</th>\n",
       "      <th>Age (day)</th>\n",
       "      <th>Concrete compressive strength(MPa, megapascals)</th>\n",
       "    </tr>\n",
       "  </thead>\n",
       "  <tbody>\n",
       "    <tr>\n",
       "      <th>0</th>\n",
       "      <td>540.0</td>\n",
       "      <td>0.0</td>\n",
       "      <td>0.0</td>\n",
       "      <td>162.0</td>\n",
       "      <td>2.5</td>\n",
       "      <td>1040.0</td>\n",
       "      <td>676.0</td>\n",
       "      <td>28</td>\n",
       "      <td>79.986111</td>\n",
       "    </tr>\n",
       "    <tr>\n",
       "      <th>1</th>\n",
       "      <td>540.0</td>\n",
       "      <td>0.0</td>\n",
       "      <td>0.0</td>\n",
       "      <td>162.0</td>\n",
       "      <td>2.5</td>\n",
       "      <td>1055.0</td>\n",
       "      <td>676.0</td>\n",
       "      <td>28</td>\n",
       "      <td>61.887366</td>\n",
       "    </tr>\n",
       "    <tr>\n",
       "      <th>2</th>\n",
       "      <td>332.5</td>\n",
       "      <td>142.5</td>\n",
       "      <td>0.0</td>\n",
       "      <td>228.0</td>\n",
       "      <td>0.0</td>\n",
       "      <td>932.0</td>\n",
       "      <td>594.0</td>\n",
       "      <td>270</td>\n",
       "      <td>40.269535</td>\n",
       "    </tr>\n",
       "    <tr>\n",
       "      <th>3</th>\n",
       "      <td>332.5</td>\n",
       "      <td>142.5</td>\n",
       "      <td>0.0</td>\n",
       "      <td>228.0</td>\n",
       "      <td>0.0</td>\n",
       "      <td>932.0</td>\n",
       "      <td>594.0</td>\n",
       "      <td>365</td>\n",
       "      <td>41.052780</td>\n",
       "    </tr>\n",
       "    <tr>\n",
       "      <th>4</th>\n",
       "      <td>198.6</td>\n",
       "      <td>132.4</td>\n",
       "      <td>0.0</td>\n",
       "      <td>192.0</td>\n",
       "      <td>0.0</td>\n",
       "      <td>978.4</td>\n",
       "      <td>825.5</td>\n",
       "      <td>360</td>\n",
       "      <td>44.296075</td>\n",
       "    </tr>\n",
       "  </tbody>\n",
       "</table>\n",
       "</div>"
      ],
      "text/plain": [
       "   Cement (component 1)(kg in a m^3 mixture)  \\\n",
       "0                                      540.0   \n",
       "1                                      540.0   \n",
       "2                                      332.5   \n",
       "3                                      332.5   \n",
       "4                                      198.6   \n",
       "\n",
       "   Blast Furnace Slag (component 2)(kg in a m^3 mixture)  \\\n",
       "0                                                0.0       \n",
       "1                                                0.0       \n",
       "2                                              142.5       \n",
       "3                                              142.5       \n",
       "4                                              132.4       \n",
       "\n",
       "   Fly Ash (component 3)(kg in a m^3 mixture)  \\\n",
       "0                                         0.0   \n",
       "1                                         0.0   \n",
       "2                                         0.0   \n",
       "3                                         0.0   \n",
       "4                                         0.0   \n",
       "\n",
       "   Water  (component 4)(kg in a m^3 mixture)  \\\n",
       "0                                      162.0   \n",
       "1                                      162.0   \n",
       "2                                      228.0   \n",
       "3                                      228.0   \n",
       "4                                      192.0   \n",
       "\n",
       "   Superplasticizer (component 5)(kg in a m^3 mixture)  \\\n",
       "0                                                2.5     \n",
       "1                                                2.5     \n",
       "2                                                0.0     \n",
       "3                                                0.0     \n",
       "4                                                0.0     \n",
       "\n",
       "   Coarse Aggregate  (component 6)(kg in a m^3 mixture)  \\\n",
       "0                                             1040.0      \n",
       "1                                             1055.0      \n",
       "2                                              932.0      \n",
       "3                                              932.0      \n",
       "4                                              978.4      \n",
       "\n",
       "   Fine Aggregate (component 7)(kg in a m^3 mixture)  Age (day)  \\\n",
       "0                                              676.0         28   \n",
       "1                                              676.0         28   \n",
       "2                                              594.0        270   \n",
       "3                                              594.0        365   \n",
       "4                                              825.5        360   \n",
       "\n",
       "   Concrete compressive strength(MPa, megapascals)   \n",
       "0                                         79.986111  \n",
       "1                                         61.887366  \n",
       "2                                         40.269535  \n",
       "3                                         41.052780  \n",
       "4                                         44.296075  "
      ]
     },
     "execution_count": 2,
     "metadata": {},
     "output_type": "execute_result"
    }
   ],
   "source": [
    "# Import xls file\n",
    "df = pd.read_excel('Concrete_Data.xls')\n",
    "df.head()"
   ]
  },
  {
   "cell_type": "code",
   "execution_count": 3,
   "metadata": {},
   "outputs": [
    {
     "data": {
      "text/html": [
       "<div>\n",
       "<style scoped>\n",
       "    .dataframe tbody tr th:only-of-type {\n",
       "        vertical-align: middle;\n",
       "    }\n",
       "\n",
       "    .dataframe tbody tr th {\n",
       "        vertical-align: top;\n",
       "    }\n",
       "\n",
       "    .dataframe thead th {\n",
       "        text-align: right;\n",
       "    }\n",
       "</style>\n",
       "<table border=\"1\" class=\"dataframe\">\n",
       "  <thead>\n",
       "    <tr style=\"text-align: right;\">\n",
       "      <th></th>\n",
       "      <th>Cement_kg_m3</th>\n",
       "      <th>Blast_furnace_slag_kg_m3</th>\n",
       "      <th>Fly_ash_kg_m3</th>\n",
       "      <th>Water_kg_m3</th>\n",
       "      <th>Superplasticizer_kg_m3</th>\n",
       "      <th>Coarse_aggregate_kg_m3</th>\n",
       "      <th>Fie_aggregate_kg_m3</th>\n",
       "      <th>Age_day</th>\n",
       "      <th>Concrete_strength_MPa</th>\n",
       "    </tr>\n",
       "  </thead>\n",
       "  <tbody>\n",
       "    <tr>\n",
       "      <th>0</th>\n",
       "      <td>540.0</td>\n",
       "      <td>0.0</td>\n",
       "      <td>0.0</td>\n",
       "      <td>162.0</td>\n",
       "      <td>2.5</td>\n",
       "      <td>1040.0</td>\n",
       "      <td>676.0</td>\n",
       "      <td>28</td>\n",
       "      <td>79.986111</td>\n",
       "    </tr>\n",
       "    <tr>\n",
       "      <th>1</th>\n",
       "      <td>540.0</td>\n",
       "      <td>0.0</td>\n",
       "      <td>0.0</td>\n",
       "      <td>162.0</td>\n",
       "      <td>2.5</td>\n",
       "      <td>1055.0</td>\n",
       "      <td>676.0</td>\n",
       "      <td>28</td>\n",
       "      <td>61.887366</td>\n",
       "    </tr>\n",
       "    <tr>\n",
       "      <th>2</th>\n",
       "      <td>332.5</td>\n",
       "      <td>142.5</td>\n",
       "      <td>0.0</td>\n",
       "      <td>228.0</td>\n",
       "      <td>0.0</td>\n",
       "      <td>932.0</td>\n",
       "      <td>594.0</td>\n",
       "      <td>270</td>\n",
       "      <td>40.269535</td>\n",
       "    </tr>\n",
       "    <tr>\n",
       "      <th>3</th>\n",
       "      <td>332.5</td>\n",
       "      <td>142.5</td>\n",
       "      <td>0.0</td>\n",
       "      <td>228.0</td>\n",
       "      <td>0.0</td>\n",
       "      <td>932.0</td>\n",
       "      <td>594.0</td>\n",
       "      <td>365</td>\n",
       "      <td>41.052780</td>\n",
       "    </tr>\n",
       "    <tr>\n",
       "      <th>4</th>\n",
       "      <td>198.6</td>\n",
       "      <td>132.4</td>\n",
       "      <td>0.0</td>\n",
       "      <td>192.0</td>\n",
       "      <td>0.0</td>\n",
       "      <td>978.4</td>\n",
       "      <td>825.5</td>\n",
       "      <td>360</td>\n",
       "      <td>44.296075</td>\n",
       "    </tr>\n",
       "  </tbody>\n",
       "</table>\n",
       "</div>"
      ],
      "text/plain": [
       "   Cement_kg_m3  Blast_furnace_slag_kg_m3  Fly_ash_kg_m3  Water_kg_m3  \\\n",
       "0         540.0                       0.0            0.0        162.0   \n",
       "1         540.0                       0.0            0.0        162.0   \n",
       "2         332.5                     142.5            0.0        228.0   \n",
       "3         332.5                     142.5            0.0        228.0   \n",
       "4         198.6                     132.4            0.0        192.0   \n",
       "\n",
       "   Superplasticizer_kg_m3  Coarse_aggregate_kg_m3  Fie_aggregate_kg_m3  \\\n",
       "0                     2.5                  1040.0                676.0   \n",
       "1                     2.5                  1055.0                676.0   \n",
       "2                     0.0                   932.0                594.0   \n",
       "3                     0.0                   932.0                594.0   \n",
       "4                     0.0                   978.4                825.5   \n",
       "\n",
       "   Age_day  Concrete_strength_MPa  \n",
       "0       28              79.986111  \n",
       "1       28              61.887366  \n",
       "2      270              40.269535  \n",
       "3      365              41.052780  \n",
       "4      360              44.296075  "
      ]
     },
     "execution_count": 3,
     "metadata": {},
     "output_type": "execute_result"
    }
   ],
   "source": [
    "# Rename columns name to be easier ans shorter\n",
    "df = df.rename(columns={'Cement (component 1)(kg in a m^3 mixture)':'Cement_kg_m3', 'Blast Furnace Slag (component 2)(kg in a m^3 mixture)':'Blast_furnace_slag_kg_m3', 'Fly Ash (component 3)(kg in a m^3 mixture)':'Fly_ash_kg_m3', 'Water  (component 4)(kg in a m^3 mixture)':'Water_kg_m3', 'Superplasticizer (component 5)(kg in a m^3 mixture)':'Superplasticizer_kg_m3', 'Coarse Aggregate  (component 6)(kg in a m^3 mixture)':'Coarse_aggregate_kg_m3', 'Fine Aggregate (component 7)(kg in a m^3 mixture)':'Fie_aggregate_kg_m3', 'Age (day)':'Age_day', 'Concrete compressive strength(MPa, megapascals) ':'Concrete_strength_MPa'})\n",
    "df.head()"
   ]
  },
  {
   "cell_type": "code",
   "execution_count": 4,
   "metadata": {},
   "outputs": [
    {
     "name": "stdout",
     "output_type": "stream",
     "text": [
      "<class 'pandas.core.frame.DataFrame'>\n",
      "RangeIndex: 1030 entries, 0 to 1029\n",
      "Data columns (total 9 columns):\n",
      " #   Column                    Non-Null Count  Dtype  \n",
      "---  ------                    --------------  -----  \n",
      " 0   Cement_kg_m3              1030 non-null   float64\n",
      " 1   Blast_furnace_slag_kg_m3  1030 non-null   float64\n",
      " 2   Fly_ash_kg_m3             1030 non-null   float64\n",
      " 3   Water_kg_m3               1030 non-null   float64\n",
      " 4   Superplasticizer_kg_m3    1030 non-null   float64\n",
      " 5   Coarse_aggregate_kg_m3    1030 non-null   float64\n",
      " 6   Fie_aggregate_kg_m3       1030 non-null   float64\n",
      " 7   Age_day                   1030 non-null   int64  \n",
      " 8   Concrete_strength_MPa     1030 non-null   float64\n",
      "dtypes: float64(8), int64(1)\n",
      "memory usage: 72.5 KB\n"
     ]
    }
   ],
   "source": [
    "df.info()"
   ]
  },
  {
   "cell_type": "code",
   "execution_count": 5,
   "metadata": {},
   "outputs": [
    {
     "data": {
      "text/html": [
       "<div>\n",
       "<style scoped>\n",
       "    .dataframe tbody tr th:only-of-type {\n",
       "        vertical-align: middle;\n",
       "    }\n",
       "\n",
       "    .dataframe tbody tr th {\n",
       "        vertical-align: top;\n",
       "    }\n",
       "\n",
       "    .dataframe thead th {\n",
       "        text-align: right;\n",
       "    }\n",
       "</style>\n",
       "<table border=\"1\" class=\"dataframe\">\n",
       "  <thead>\n",
       "    <tr style=\"text-align: right;\">\n",
       "      <th></th>\n",
       "      <th>Cement_kg_m3</th>\n",
       "      <th>Blast_furnace_slag_kg_m3</th>\n",
       "      <th>Fly_ash_kg_m3</th>\n",
       "      <th>Water_kg_m3</th>\n",
       "      <th>Superplasticizer_kg_m3</th>\n",
       "      <th>Coarse_aggregate_kg_m3</th>\n",
       "      <th>Fie_aggregate_kg_m3</th>\n",
       "      <th>Age_day</th>\n",
       "      <th>Concrete_strength_MPa</th>\n",
       "    </tr>\n",
       "  </thead>\n",
       "  <tbody>\n",
       "    <tr>\n",
       "      <th>count</th>\n",
       "      <td>1030.000000</td>\n",
       "      <td>1030.000000</td>\n",
       "      <td>1030.000000</td>\n",
       "      <td>1030.000000</td>\n",
       "      <td>1030.000000</td>\n",
       "      <td>1030.000000</td>\n",
       "      <td>1030.000000</td>\n",
       "      <td>1030.000000</td>\n",
       "      <td>1030.000000</td>\n",
       "    </tr>\n",
       "    <tr>\n",
       "      <th>mean</th>\n",
       "      <td>281.165631</td>\n",
       "      <td>73.895485</td>\n",
       "      <td>54.187136</td>\n",
       "      <td>181.566359</td>\n",
       "      <td>6.203112</td>\n",
       "      <td>972.918592</td>\n",
       "      <td>773.578883</td>\n",
       "      <td>45.662136</td>\n",
       "      <td>35.817836</td>\n",
       "    </tr>\n",
       "    <tr>\n",
       "      <th>std</th>\n",
       "      <td>104.507142</td>\n",
       "      <td>86.279104</td>\n",
       "      <td>63.996469</td>\n",
       "      <td>21.355567</td>\n",
       "      <td>5.973492</td>\n",
       "      <td>77.753818</td>\n",
       "      <td>80.175427</td>\n",
       "      <td>63.169912</td>\n",
       "      <td>16.705679</td>\n",
       "    </tr>\n",
       "    <tr>\n",
       "      <th>min</th>\n",
       "      <td>102.000000</td>\n",
       "      <td>0.000000</td>\n",
       "      <td>0.000000</td>\n",
       "      <td>121.750000</td>\n",
       "      <td>0.000000</td>\n",
       "      <td>801.000000</td>\n",
       "      <td>594.000000</td>\n",
       "      <td>1.000000</td>\n",
       "      <td>2.331808</td>\n",
       "    </tr>\n",
       "    <tr>\n",
       "      <th>25%</th>\n",
       "      <td>192.375000</td>\n",
       "      <td>0.000000</td>\n",
       "      <td>0.000000</td>\n",
       "      <td>164.900000</td>\n",
       "      <td>0.000000</td>\n",
       "      <td>932.000000</td>\n",
       "      <td>730.950000</td>\n",
       "      <td>7.000000</td>\n",
       "      <td>23.707115</td>\n",
       "    </tr>\n",
       "    <tr>\n",
       "      <th>50%</th>\n",
       "      <td>272.900000</td>\n",
       "      <td>22.000000</td>\n",
       "      <td>0.000000</td>\n",
       "      <td>185.000000</td>\n",
       "      <td>6.350000</td>\n",
       "      <td>968.000000</td>\n",
       "      <td>779.510000</td>\n",
       "      <td>28.000000</td>\n",
       "      <td>34.442774</td>\n",
       "    </tr>\n",
       "    <tr>\n",
       "      <th>75%</th>\n",
       "      <td>350.000000</td>\n",
       "      <td>142.950000</td>\n",
       "      <td>118.270000</td>\n",
       "      <td>192.000000</td>\n",
       "      <td>10.160000</td>\n",
       "      <td>1029.400000</td>\n",
       "      <td>824.000000</td>\n",
       "      <td>56.000000</td>\n",
       "      <td>46.136287</td>\n",
       "    </tr>\n",
       "    <tr>\n",
       "      <th>max</th>\n",
       "      <td>540.000000</td>\n",
       "      <td>359.400000</td>\n",
       "      <td>200.100000</td>\n",
       "      <td>247.000000</td>\n",
       "      <td>32.200000</td>\n",
       "      <td>1145.000000</td>\n",
       "      <td>992.600000</td>\n",
       "      <td>365.000000</td>\n",
       "      <td>82.599225</td>\n",
       "    </tr>\n",
       "  </tbody>\n",
       "</table>\n",
       "</div>"
      ],
      "text/plain": [
       "       Cement_kg_m3  Blast_furnace_slag_kg_m3  Fly_ash_kg_m3  Water_kg_m3  \\\n",
       "count   1030.000000               1030.000000    1030.000000  1030.000000   \n",
       "mean     281.165631                 73.895485      54.187136   181.566359   \n",
       "std      104.507142                 86.279104      63.996469    21.355567   \n",
       "min      102.000000                  0.000000       0.000000   121.750000   \n",
       "25%      192.375000                  0.000000       0.000000   164.900000   \n",
       "50%      272.900000                 22.000000       0.000000   185.000000   \n",
       "75%      350.000000                142.950000     118.270000   192.000000   \n",
       "max      540.000000                359.400000     200.100000   247.000000   \n",
       "\n",
       "       Superplasticizer_kg_m3  Coarse_aggregate_kg_m3  Fie_aggregate_kg_m3  \\\n",
       "count             1030.000000             1030.000000          1030.000000   \n",
       "mean                 6.203112              972.918592           773.578883   \n",
       "std                  5.973492               77.753818            80.175427   \n",
       "min                  0.000000              801.000000           594.000000   \n",
       "25%                  0.000000              932.000000           730.950000   \n",
       "50%                  6.350000              968.000000           779.510000   \n",
       "75%                 10.160000             1029.400000           824.000000   \n",
       "max                 32.200000             1145.000000           992.600000   \n",
       "\n",
       "           Age_day  Concrete_strength_MPa  \n",
       "count  1030.000000            1030.000000  \n",
       "mean     45.662136              35.817836  \n",
       "std      63.169912              16.705679  \n",
       "min       1.000000               2.331808  \n",
       "25%       7.000000              23.707115  \n",
       "50%      28.000000              34.442774  \n",
       "75%      56.000000              46.136287  \n",
       "max     365.000000              82.599225  "
      ]
     },
     "execution_count": 5,
     "metadata": {},
     "output_type": "execute_result"
    }
   ],
   "source": [
    "df.describe()"
   ]
  },
  {
   "cell_type": "code",
   "execution_count": 6,
   "metadata": {},
   "outputs": [
    {
     "data": {
      "text/html": [
       "<div>\n",
       "<style scoped>\n",
       "    .dataframe tbody tr th:only-of-type {\n",
       "        vertical-align: middle;\n",
       "    }\n",
       "\n",
       "    .dataframe tbody tr th {\n",
       "        vertical-align: top;\n",
       "    }\n",
       "\n",
       "    .dataframe thead th {\n",
       "        text-align: right;\n",
       "    }\n",
       "</style>\n",
       "<table border=\"1\" class=\"dataframe\">\n",
       "  <thead>\n",
       "    <tr style=\"text-align: right;\">\n",
       "      <th></th>\n",
       "      <th>Cement_kg_m3</th>\n",
       "      <th>Blast_furnace_slag_kg_m3</th>\n",
       "      <th>Fly_ash_kg_m3</th>\n",
       "      <th>Water_kg_m3</th>\n",
       "      <th>Superplasticizer_kg_m3</th>\n",
       "      <th>Coarse_aggregate_kg_m3</th>\n",
       "      <th>Fie_aggregate_kg_m3</th>\n",
       "      <th>Age_day</th>\n",
       "      <th>Concrete_strength_MPa</th>\n",
       "    </tr>\n",
       "  </thead>\n",
       "  <tbody>\n",
       "    <tr>\n",
       "      <th>Cement_kg_m3</th>\n",
       "      <td>1.000000</td>\n",
       "      <td>-0.275193</td>\n",
       "      <td>-0.397475</td>\n",
       "      <td>-0.081544</td>\n",
       "      <td>0.092771</td>\n",
       "      <td>-0.109356</td>\n",
       "      <td>-0.222720</td>\n",
       "      <td>0.081947</td>\n",
       "      <td>0.497833</td>\n",
       "    </tr>\n",
       "    <tr>\n",
       "      <th>Blast_furnace_slag_kg_m3</th>\n",
       "      <td>-0.275193</td>\n",
       "      <td>1.000000</td>\n",
       "      <td>-0.323569</td>\n",
       "      <td>0.107286</td>\n",
       "      <td>0.043376</td>\n",
       "      <td>-0.283998</td>\n",
       "      <td>-0.281593</td>\n",
       "      <td>-0.044246</td>\n",
       "      <td>0.134824</td>\n",
       "    </tr>\n",
       "    <tr>\n",
       "      <th>Fly_ash_kg_m3</th>\n",
       "      <td>-0.397475</td>\n",
       "      <td>-0.323569</td>\n",
       "      <td>1.000000</td>\n",
       "      <td>-0.257044</td>\n",
       "      <td>0.377340</td>\n",
       "      <td>-0.009977</td>\n",
       "      <td>0.079076</td>\n",
       "      <td>-0.154370</td>\n",
       "      <td>-0.105753</td>\n",
       "    </tr>\n",
       "    <tr>\n",
       "      <th>Water_kg_m3</th>\n",
       "      <td>-0.081544</td>\n",
       "      <td>0.107286</td>\n",
       "      <td>-0.257044</td>\n",
       "      <td>1.000000</td>\n",
       "      <td>-0.657464</td>\n",
       "      <td>-0.182312</td>\n",
       "      <td>-0.450635</td>\n",
       "      <td>0.277604</td>\n",
       "      <td>-0.289613</td>\n",
       "    </tr>\n",
       "    <tr>\n",
       "      <th>Superplasticizer_kg_m3</th>\n",
       "      <td>0.092771</td>\n",
       "      <td>0.043376</td>\n",
       "      <td>0.377340</td>\n",
       "      <td>-0.657464</td>\n",
       "      <td>1.000000</td>\n",
       "      <td>-0.266303</td>\n",
       "      <td>0.222501</td>\n",
       "      <td>-0.192717</td>\n",
       "      <td>0.366102</td>\n",
       "    </tr>\n",
       "    <tr>\n",
       "      <th>Coarse_aggregate_kg_m3</th>\n",
       "      <td>-0.109356</td>\n",
       "      <td>-0.283998</td>\n",
       "      <td>-0.009977</td>\n",
       "      <td>-0.182312</td>\n",
       "      <td>-0.266303</td>\n",
       "      <td>1.000000</td>\n",
       "      <td>-0.178506</td>\n",
       "      <td>-0.003016</td>\n",
       "      <td>-0.164928</td>\n",
       "    </tr>\n",
       "    <tr>\n",
       "      <th>Fie_aggregate_kg_m3</th>\n",
       "      <td>-0.222720</td>\n",
       "      <td>-0.281593</td>\n",
       "      <td>0.079076</td>\n",
       "      <td>-0.450635</td>\n",
       "      <td>0.222501</td>\n",
       "      <td>-0.178506</td>\n",
       "      <td>1.000000</td>\n",
       "      <td>-0.156094</td>\n",
       "      <td>-0.167249</td>\n",
       "    </tr>\n",
       "    <tr>\n",
       "      <th>Age_day</th>\n",
       "      <td>0.081947</td>\n",
       "      <td>-0.044246</td>\n",
       "      <td>-0.154370</td>\n",
       "      <td>0.277604</td>\n",
       "      <td>-0.192717</td>\n",
       "      <td>-0.003016</td>\n",
       "      <td>-0.156094</td>\n",
       "      <td>1.000000</td>\n",
       "      <td>0.328877</td>\n",
       "    </tr>\n",
       "    <tr>\n",
       "      <th>Concrete_strength_MPa</th>\n",
       "      <td>0.497833</td>\n",
       "      <td>0.134824</td>\n",
       "      <td>-0.105753</td>\n",
       "      <td>-0.289613</td>\n",
       "      <td>0.366102</td>\n",
       "      <td>-0.164928</td>\n",
       "      <td>-0.167249</td>\n",
       "      <td>0.328877</td>\n",
       "      <td>1.000000</td>\n",
       "    </tr>\n",
       "  </tbody>\n",
       "</table>\n",
       "</div>"
      ],
      "text/plain": [
       "                          Cement_kg_m3  Blast_furnace_slag_kg_m3  \\\n",
       "Cement_kg_m3                  1.000000                 -0.275193   \n",
       "Blast_furnace_slag_kg_m3     -0.275193                  1.000000   \n",
       "Fly_ash_kg_m3                -0.397475                 -0.323569   \n",
       "Water_kg_m3                  -0.081544                  0.107286   \n",
       "Superplasticizer_kg_m3        0.092771                  0.043376   \n",
       "Coarse_aggregate_kg_m3       -0.109356                 -0.283998   \n",
       "Fie_aggregate_kg_m3          -0.222720                 -0.281593   \n",
       "Age_day                       0.081947                 -0.044246   \n",
       "Concrete_strength_MPa         0.497833                  0.134824   \n",
       "\n",
       "                          Fly_ash_kg_m3  Water_kg_m3  Superplasticizer_kg_m3  \\\n",
       "Cement_kg_m3                  -0.397475    -0.081544                0.092771   \n",
       "Blast_furnace_slag_kg_m3      -0.323569     0.107286                0.043376   \n",
       "Fly_ash_kg_m3                  1.000000    -0.257044                0.377340   \n",
       "Water_kg_m3                   -0.257044     1.000000               -0.657464   \n",
       "Superplasticizer_kg_m3         0.377340    -0.657464                1.000000   \n",
       "Coarse_aggregate_kg_m3        -0.009977    -0.182312               -0.266303   \n",
       "Fie_aggregate_kg_m3            0.079076    -0.450635                0.222501   \n",
       "Age_day                       -0.154370     0.277604               -0.192717   \n",
       "Concrete_strength_MPa         -0.105753    -0.289613                0.366102   \n",
       "\n",
       "                          Coarse_aggregate_kg_m3  Fie_aggregate_kg_m3  \\\n",
       "Cement_kg_m3                           -0.109356            -0.222720   \n",
       "Blast_furnace_slag_kg_m3               -0.283998            -0.281593   \n",
       "Fly_ash_kg_m3                          -0.009977             0.079076   \n",
       "Water_kg_m3                            -0.182312            -0.450635   \n",
       "Superplasticizer_kg_m3                 -0.266303             0.222501   \n",
       "Coarse_aggregate_kg_m3                  1.000000            -0.178506   \n",
       "Fie_aggregate_kg_m3                    -0.178506             1.000000   \n",
       "Age_day                                -0.003016            -0.156094   \n",
       "Concrete_strength_MPa                  -0.164928            -0.167249   \n",
       "\n",
       "                           Age_day  Concrete_strength_MPa  \n",
       "Cement_kg_m3              0.081947               0.497833  \n",
       "Blast_furnace_slag_kg_m3 -0.044246               0.134824  \n",
       "Fly_ash_kg_m3            -0.154370              -0.105753  \n",
       "Water_kg_m3               0.277604              -0.289613  \n",
       "Superplasticizer_kg_m3   -0.192717               0.366102  \n",
       "Coarse_aggregate_kg_m3   -0.003016              -0.164928  \n",
       "Fie_aggregate_kg_m3      -0.156094              -0.167249  \n",
       "Age_day                   1.000000               0.328877  \n",
       "Concrete_strength_MPa     0.328877               1.000000  "
      ]
     },
     "execution_count": 6,
     "metadata": {},
     "output_type": "execute_result"
    }
   ],
   "source": [
    "df.corr()"
   ]
  },
  {
   "cell_type": "markdown",
   "metadata": {},
   "source": [
    "### Data Visulization"
   ]
  },
  {
   "cell_type": "code",
   "execution_count": 7,
   "metadata": {},
   "outputs": [
    {
     "data": {
      "image/png": "[encoded data removed]",
      "text/plain": [
       "<Figure size 1152x720 with 2 Axes>"
      ]
     },
     "metadata": {
      "needs_background": "light"
     },
     "output_type": "display_data"
    }
   ],
   "source": [
    "# Visualizing the data correlation\n",
    "plt.figure(figsize=(16, 10))\n",
    "sns_plt = sns.heatmap(df.corr(), annot= True)\n",
    "plt.show()"
   ]
  },
  {
   "cell_type": "code",
   "execution_count": 8,
   "metadata": {},
   "outputs": [
    {
     "data": {
      "text/plain": [
       "<matplotlib.axes._subplots.AxesSubplot at 0xeac52d0>"
      ]
     },
     "execution_count": 8,
     "metadata": {},
     "output_type": "execute_result"
    },
    {
     "data": {
      "image/png": "[encoded data removed]",
      "text/plain": [
       "<Figure size 432x288 with 1 Axes>"
      ]
     },
     "metadata": {
      "needs_background": "light"
     },
     "output_type": "display_data"
    }
   ],
   "source": [
    "sns.lineplot(x='Cement_kg_m3', y='Concrete_strength_MPa', data= df)"
   ]
  },
  {
   "cell_type": "code",
   "execution_count": 9,
   "metadata": {},
   "outputs": [
    {
     "data": {
      "text/plain": [
       "<seaborn.axisgrid.JointGrid at 0xe9236b0>"
      ]
     },
     "execution_count": 9,
     "metadata": {},
     "output_type": "execute_result"
    },
    {
     "data": {
      "image/png": "[encoded data removed]",
      "text/plain": [
       "<Figure size 432x432 with 3 Axes>"
      ]
     },
     "metadata": {
      "needs_background": "light"
     },
     "output_type": "display_data"
    }
   ],
   "source": [
    "sns.jointplot(x='Cement_kg_m3', y='Concrete_strength_MPa', data= df)"
   ]
  },
  {
   "cell_type": "code",
   "execution_count": 10,
   "metadata": {},
   "outputs": [
    {
     "data": {
      "text/plain": [
       "<matplotlib.axes._subplots.AxesSubplot at 0xea01e70>"
      ]
     },
     "execution_count": 10,
     "metadata": {},
     "output_type": "execute_result"
    },
    {
     "data": {
      "image/png": "[encoded data removed]",
      "text/plain": [
       "<Figure size 432x288 with 1 Axes>"
      ]
     },
     "metadata": {
      "needs_background": "light"
     },
     "output_type": "display_data"
    }
   ],
   "source": [
    "sns.boxplot(x= 'Age_day', y= 'Concrete_strength_MPa', data= df)"
   ]
  },
  {
   "cell_type": "code",
   "execution_count": 11,
   "metadata": {},
   "outputs": [
    {
     "data": {
      "text/plain": [
       "<matplotlib.axes._subplots.AxesSubplot at 0xf3f1af0>"
      ]
     },
     "execution_count": 11,
     "metadata": {},
     "output_type": "execute_result"
    },
    {
     "data": {
      "image/png": "[encoded data removed]",
      "text/plain": [
       "<Figure size 432x288 with 1 Axes>"
      ]
     },
     "metadata": {
      "needs_background": "light"
     },
     "output_type": "display_data"
    }
   ],
   "source": [
    "sns.lineplot(x='Age_day', y='Concrete_strength_MPa', data= df)"
   ]
  },
  {
   "cell_type": "code",
   "execution_count": 12,
   "metadata": {},
   "outputs": [
    {
     "data": {
      "text/plain": [
       "<matplotlib.axes._subplots.AxesSubplot at 0xf42bdb0>"
      ]
     },
     "execution_count": 12,
     "metadata": {},
     "output_type": "execute_result"
    },
    {
     "data": {
      "image/png": "[encoded data removed]",
      "text/plain": [
       "<Figure size 432x288 with 1 Axes>"
      ]
     },
     "metadata": {
      "needs_background": "light"
     },
     "output_type": "display_data"
    }
   ],
   "source": [
    "sns.countplot(x= 'Age_day', data= df)"
   ]
  },
  {
   "cell_type": "code",
   "execution_count": 13,
   "metadata": {},
   "outputs": [
    {
     "data": {
      "text/plain": [
       "<matplotlib.axes._subplots.AxesSubplot at 0xf473df0>"
      ]
     },
     "execution_count": 13,
     "metadata": {},
     "output_type": "execute_result"
    },
    {
     "data": {
      "image/png": "[encoded data removed]",
      "text/plain": [
       "<Figure size 432x288 with 1 Axes>"
      ]
     },
     "metadata": {
      "needs_background": "light"
     },
     "output_type": "display_data"
    }
   ],
   "source": [
    "sns.lineplot(x='Superplasticizer_kg_m3', y='Concrete_strength_MPa', data= df)"
   ]
  },
  {
   "cell_type": "markdown",
   "metadata": {},
   "source": [
    "## PCA for finding the important features"
   ]
  },
  {
   "cell_type": "code",
   "execution_count": 7,
   "metadata": {},
   "outputs": [],
   "source": [
    "feat = df.drop(['Concrete_strength_MPa'], 1)"
   ]
  },
  {
   "cell_type": "code",
   "execution_count": 31,
   "metadata": {},
   "outputs": [
    {
     "data": {
      "text/plain": [
       "array([[ 2.84793979e+02, -1.03661105e+01, -7.03399038e+01, ...,\n",
       "        -1.60536462e+01, -8.60016733e+00,  6.66556633e+00],\n",
       "       [ 2.84657408e+02, -1.44847250e+01, -8.17503811e+01, ...,\n",
       "        -2.01144270e+01, -5.81092397e+00,  6.04312586e+00],\n",
       "       [ 1.01850951e+02,  1.83435613e+02, -9.14908893e+01, ...,\n",
       "         8.69907568e+00, -1.91420565e+00, -1.31226395e-01],\n",
       "       ...,\n",
       "       [-1.52620399e+02,  4.95023377e+01,  4.82394203e+01, ...,\n",
       "         1.27466109e+01,  4.42010827e-01,  1.15832982e+00],\n",
       "       [-1.32382165e+02,  8.79056712e+01, -8.74873863e+00, ...,\n",
       "         6.29516183e+00, -1.30056303e+01, -4.93332668e+00],\n",
       "       [-2.92011561e+01,  4.83629860e+01,  7.40202823e+01, ...,\n",
       "         2.73184418e+01,  1.02101189e+00, -2.30406943e+00]])"
      ]
     },
     "execution_count": 31,
     "metadata": {},
     "output_type": "execute_result"
    }
   ],
   "source": [
    "from sklearn.decomposition import PCA\n",
    "pca = PCA(n_components=8)\n",
    "pca.fit(feat.values) \n",
    "feats = pca.transform(feat.values)"
   ]
  },
  {
   "cell_type": "code",
   "execution_count": 13,
   "metadata": {},
   "outputs": [
    {
     "data": {
      "text/plain": [
       "array([3.25769855e-01, 2.48868733e-01, 1.84800583e-01, 1.07660178e-01,\n",
       "       1.00949746e-01, 2.98452916e-02, 1.81808433e-03, 2.87530097e-04])"
      ]
     },
     "execution_count": 13,
     "metadata": {},
     "output_type": "execute_result"
    }
   ],
   "source": [
    "pca.explained_variance_ratio_"
   ]
  },
  {
   "cell_type": "code",
   "execution_count": 17,
   "metadata": {},
   "outputs": [
    {
     "data": {
      "text/html": [
       "<div>\n",
       "<style scoped>\n",
       "    .dataframe tbody tr th:only-of-type {\n",
       "        vertical-align: middle;\n",
       "    }\n",
       "\n",
       "    .dataframe tbody tr th {\n",
       "        vertical-align: top;\n",
       "    }\n",
       "\n",
       "    .dataframe thead th {\n",
       "        text-align: right;\n",
       "    }\n",
       "</style>\n",
       "<table border=\"1\" class=\"dataframe\">\n",
       "  <thead>\n",
       "    <tr style=\"text-align: right;\">\n",
       "      <th></th>\n",
       "      <th>PC1</th>\n",
       "      <th>PC2</th>\n",
       "      <th>PC3</th>\n",
       "      <th>PC4</th>\n",
       "      <th>PC5</th>\n",
       "      <th>PC6</th>\n",
       "      <th>PC7</th>\n",
       "      <th>PC8</th>\n",
       "    </tr>\n",
       "  </thead>\n",
       "  <tbody>\n",
       "    <tr>\n",
       "      <th>Cement_kg_m3</th>\n",
       "      <td>0.905642</td>\n",
       "      <td>0.032639</td>\n",
       "      <td>0.154807</td>\n",
       "      <td>-0.008243</td>\n",
       "      <td>-0.151377</td>\n",
       "      <td>-0.306515</td>\n",
       "      <td>0.194381</td>\n",
       "      <td>-0.007910</td>\n",
       "    </tr>\n",
       "    <tr>\n",
       "      <th>Blast_furnace_slag_kg_m3</th>\n",
       "      <td>-0.262540</td>\n",
       "      <td>0.786053</td>\n",
       "      <td>0.072916</td>\n",
       "      <td>-0.199058</td>\n",
       "      <td>-0.106708</td>\n",
       "      <td>-0.453454</td>\n",
       "      <td>0.226185</td>\n",
       "      <td>-0.009247</td>\n",
       "    </tr>\n",
       "    <tr>\n",
       "      <th>Fly_ash_kg_m3</th>\n",
       "      <td>-0.238616</td>\n",
       "      <td>-0.303015</td>\n",
       "      <td>-0.051491</td>\n",
       "      <td>0.687224</td>\n",
       "      <td>-0.177584</td>\n",
       "      <td>-0.512356</td>\n",
       "      <td>0.286775</td>\n",
       "      <td>0.005608</td>\n",
       "    </tr>\n",
       "    <tr>\n",
       "      <th>Water_kg_m3</th>\n",
       "      <td>0.005567</td>\n",
       "      <td>0.076264</td>\n",
       "      <td>-0.041456</td>\n",
       "      <td>0.075552</td>\n",
       "      <td>0.098424</td>\n",
       "      <td>0.482482</td>\n",
       "      <td>0.824630</td>\n",
       "      <td>-0.253447</td>\n",
       "    </tr>\n",
       "    <tr>\n",
       "      <th>Superplasticizer_kg_m3</th>\n",
       "      <td>-0.001306</td>\n",
       "      <td>-0.005094</td>\n",
       "      <td>0.024065</td>\n",
       "      <td>0.020514</td>\n",
       "      <td>-0.022932</td>\n",
       "      <td>-0.104452</td>\n",
       "      <td>-0.233232</td>\n",
       "      <td>-0.965991</td>\n",
       "    </tr>\n",
       "    <tr>\n",
       "      <th>Coarse_aggregate_kg_m3</th>\n",
       "      <td>-0.009105</td>\n",
       "      <td>-0.274574</td>\n",
       "      <td>-0.760698</td>\n",
       "      <td>-0.480047</td>\n",
       "      <td>-0.076361</td>\n",
       "      <td>-0.270719</td>\n",
       "      <td>0.185950</td>\n",
       "      <td>-0.041496</td>\n",
       "    </tr>\n",
       "    <tr>\n",
       "      <th>Fie_aggregate_kg_m3</th>\n",
       "      <td>-0.210131</td>\n",
       "      <td>-0.450693</td>\n",
       "      <td>0.610776</td>\n",
       "      <td>-0.485145</td>\n",
       "      <td>0.132836</td>\n",
       "      <td>-0.257129</td>\n",
       "      <td>0.244595</td>\n",
       "      <td>-0.026832</td>\n",
       "    </tr>\n",
       "    <tr>\n",
       "      <th>Age_day</th>\n",
       "      <td>0.098368</td>\n",
       "      <td>0.069854</td>\n",
       "      <td>-0.118573</td>\n",
       "      <td>0.126851</td>\n",
       "      <td>0.948932</td>\n",
       "      <td>-0.234129</td>\n",
       "      <td>-0.000333</td>\n",
       "      <td>0.002108</td>\n",
       "    </tr>\n",
       "  </tbody>\n",
       "</table>\n",
       "</div>"
      ],
      "text/plain": [
       "                               PC1       PC2       PC3       PC4       PC5  \\\n",
       "Cement_kg_m3              0.905642  0.032639  0.154807 -0.008243 -0.151377   \n",
       "Blast_furnace_slag_kg_m3 -0.262540  0.786053  0.072916 -0.199058 -0.106708   \n",
       "Fly_ash_kg_m3            -0.238616 -0.303015 -0.051491  0.687224 -0.177584   \n",
       "Water_kg_m3               0.005567  0.076264 -0.041456  0.075552  0.098424   \n",
       "Superplasticizer_kg_m3   -0.001306 -0.005094  0.024065  0.020514 -0.022932   \n",
       "Coarse_aggregate_kg_m3   -0.009105 -0.274574 -0.760698 -0.480047 -0.076361   \n",
       "Fie_aggregate_kg_m3      -0.210131 -0.450693  0.610776 -0.485145  0.132836   \n",
       "Age_day                   0.098368  0.069854 -0.118573  0.126851  0.948932   \n",
       "\n",
       "                               PC6       PC7       PC8  \n",
       "Cement_kg_m3             -0.306515  0.194381 -0.007910  \n",
       "Blast_furnace_slag_kg_m3 -0.453454  0.226185 -0.009247  \n",
       "Fly_ash_kg_m3            -0.512356  0.286775  0.005608  \n",
       "Water_kg_m3               0.482482  0.824630 -0.253447  \n",
       "Superplasticizer_kg_m3   -0.104452 -0.233232 -0.965991  \n",
       "Coarse_aggregate_kg_m3   -0.270719  0.185950 -0.041496  \n",
       "Fie_aggregate_kg_m3      -0.257129  0.244595 -0.026832  \n",
       "Age_day                  -0.234129 -0.000333  0.002108  "
      ]
     },
     "execution_count": 17,
     "metadata": {},
     "output_type": "execute_result"
    }
   ],
   "source": [
    "from sklearn.preprocessing import scale\n",
    "\n",
    "loadings = pd.DataFrame(pca.components_.T, columns=['PC1', 'PC2','PC3','PC4', 'PC5', 'PC6', 'PC7', 'PC8'], index=feat.columns)\n",
    "loadings"
   ]
  },
  {
   "cell_type": "code",
   "execution_count": null,
   "metadata": {},
   "outputs": [],
   "source": []
  },
  {
   "cell_type": "markdown",
   "metadata": {},
   "source": [
    "### Data Preprocessing"
   ]
  },
  {
   "cell_type": "code",
   "execution_count": 18,
   "metadata": {},
   "outputs": [],
   "source": [
    "X = df.drop(['Concrete_strength_MPa', 'Water_kg_m3', 'Superplasticizer_kg_m3'], 1)\n",
    "y = df['Concrete_strength_MPa']"
   ]
  },
  {
   "cell_type": "code",
   "execution_count": 19,
   "metadata": {},
   "outputs": [],
   "source": [
    "# Spliting the data to train and test\n",
    "from sklearn.model_selection import train_test_split\n",
    "X_train, X_test, y_train, y_test = train_test_split(X, y, test_size = 0.2, random_state = 0)"
   ]
  },
  {
   "cell_type": "code",
   "execution_count": 20,
   "metadata": {},
   "outputs": [
    {
     "data": {
      "text/plain": [
       "array([[ 2.10991518, -0.88106119, -0.84617062,  1.97132825, -1.97556016,\n",
       "        -0.69267849],\n",
       "       [-1.49852146,  1.2030767 , -0.84617062, -0.17456898,  0.33209718,\n",
       "        -0.62793264],\n",
       "       [ 0.79619183,  1.26087498, -0.84617062, -0.34824772, -0.21429096,\n",
       "         0.7317303 ],\n",
       "       ...,\n",
       "       [-1.01146856, -0.31384476,  1.84556404,  0.4429554 ,  0.25069398,\n",
       "        -0.51462739],\n",
       "       [-0.16567549,  0.37690132,  0.48783031, -0.98764276, -0.495502  ,\n",
       "        -0.2880169 ],\n",
       "       [-0.28041116, -0.88106119,  0.63813809, -0.19180821,  1.08532344,\n",
       "        -0.69267849]])"
      ]
     },
     "execution_count": 20,
     "metadata": {},
     "output_type": "execute_result"
    }
   ],
   "source": [
    "# Feature scaling\n",
    "from sklearn.preprocessing import StandardScaler\n",
    "sc = StandardScaler()\n",
    "X_train = sc.fit_transform(X_train)\n",
    "X_test = sc.transform(X_test)\n",
    "X_test"
   ]
  },
  {
   "cell_type": "markdown",
   "metadata": {},
   "source": [
    "### Multi Linear Regression"
   ]
  },
  {
   "cell_type": "code",
   "execution_count": 33,
   "metadata": {
    "scrolled": true
   },
   "outputs": [
    {
     "data": {
      "text/plain": [
       "LinearRegression()"
      ]
     },
     "execution_count": 33,
     "metadata": {},
     "output_type": "execute_result"
    }
   ],
   "source": [
    "from sklearn.linear_model import LinearRegression\n",
    "lin_reg = LinearRegression()\n",
    "lin_reg.fit(X_train, y_train)"
   ]
  },
  {
   "cell_type": "code",
   "execution_count": 34,
   "metadata": {},
   "outputs": [
    {
     "name": "stdout",
     "output_type": "stream",
     "text": [
      "Accuracy: 57.56527% (5.65835%)\n"
     ]
    }
   ],
   "source": [
    "# Applying k-Fold Cross Validation\n",
    "from sklearn.model_selection import cross_val_score\n",
    "results = cross_val_score(estimator = lin_reg, X = X_train, y = y_train, cv = 10)\n",
    "print(\"Accuracy: %.5f%% (%.5f%%)\" % (results.mean()*100.0, results.std()*100.0))"
   ]
  },
  {
   "cell_type": "code",
   "execution_count": 35,
   "metadata": {
    "collapsed": true,
    "jupyter": {
     "outputs_hidden": true
    }
   },
   "outputs": [
    {
     "data": {
      "text/plain": [
       "array([42.67535593, 15.48610278, 61.01062453, 57.58777058, 26.26695098,\n",
       "       47.45319343, 40.67835232, 25.60231022, 52.88220534, 36.53624114,\n",
       "       15.51955459, 37.56716099, 32.46384518, 39.06068483, 46.68289729,\n",
       "       55.00900533, 34.31087026, 30.65843417, 49.67022977, 36.49958639,\n",
       "       55.51049403, 32.60679249, 33.57088627, 49.21516908, 23.83012815,\n",
       "       23.70424438, 60.98320141, 25.90614851, 55.00900533, 46.00645034,\n",
       "       18.80537549, 35.63795025, 18.17287679, 19.08936954, 24.27490446,\n",
       "       16.07020419, 46.99813274, 28.34466875, 28.56507756, 27.14009978,\n",
       "       54.94107004, 30.10244008, 23.22630061, 36.22920949, 51.50924265,\n",
       "       52.70966911, 31.11291354, 46.76273915, 26.63661257, 57.27366728,\n",
       "       34.27685524, 20.04049367, 22.00047216, 37.46951277, 44.42030191,\n",
       "       51.94811884, 33.48071315, 51.8235805 , 58.73922325, 36.75506449,\n",
       "       31.33755712, 23.63443649, 52.05773736, 50.92581352, 22.73893871,\n",
       "       40.81738704, 34.19141959, 33.8359687 , 15.7033844 , 19.54543806,\n",
       "       26.53193926, 26.40917654, 53.1647298 , 20.4019282 , 38.69396522,\n",
       "       48.97945118, 27.93157913, 19.94011932, 24.731821  , 28.8036037 ,\n",
       "       14.2844413 , 44.20271453, 30.63658384, 34.25093492, 39.68501122,\n",
       "       31.94379635, 49.93600058, 52.3250692 , 39.06266623, 30.68428575,\n",
       "       54.36357188, 22.0599136 , 24.35089332, 35.90358267, 22.49073035,\n",
       "       56.17043947, 33.38508017, 35.60614192, 52.3250692 , 27.91724583,\n",
       "       33.26643893, 35.95846096, 28.41257373, 30.57662124, 33.47737313,\n",
       "       34.2559313 , 39.27505986, 31.2284638 , 28.60311327, 40.91212155,\n",
       "       19.45040427, 44.23354144, 26.28467362, 34.32703151, 36.92194418,\n",
       "       66.89917468, 31.33755712, 33.50738938, 42.02412722, 33.07561462,\n",
       "       45.51948524, 25.06253224, 57.15994911, 29.27842035, 14.0486551 ,\n",
       "       20.65659802, 14.65247632, 20.97056837, 37.81535792, 34.98591379,\n",
       "       29.74027129, 46.77510666, 34.90687397, 24.65535592, 16.88279594,\n",
       "       55.51049403, 61.38786252, 38.55941021, 13.4221807 , 19.90546496,\n",
       "       39.32509638, 46.62054128, 33.63932346, 19.60094727, 16.421459  ,\n",
       "       35.84111031, 49.93600058, 28.86177068, 26.26992326, 15.57543696,\n",
       "       27.10260388, 22.56795143, 26.33886671, 18.93480415, 31.69445471,\n",
       "       31.15432362, 48.64769033, 30.69004966, 29.90097614, 23.60499347,\n",
       "       36.21439505, 46.07904441, 21.65128595, 26.21919678, 28.64198837,\n",
       "       27.80433103, 56.96453652, 51.8235805 , 57.42823266, 11.1808188 ,\n",
       "       31.13308614, 36.72632959, 25.60661596, 58.48577157, 25.94454585,\n",
       "       22.92279709, 15.77184709, 48.78907843, 23.04899939, 38.01324419,\n",
       "       35.5291584 , 30.50113226, 18.96541208, 41.67611099, 31.18057103,\n",
       "       27.05877978, 40.34130561, 39.39425465, 27.44781899, 52.05773736,\n",
       "       22.03279016, 64.16862624, 43.25907623, 27.20034913, 16.40859758,\n",
       "       29.83768933, 32.07686162, 26.86114948, 33.13215802, 60.97062418,\n",
       "       18.44778126, 20.14690844, 37.98294271, 33.34518408, 34.29029735,\n",
       "       26.43429104])"
      ]
     },
     "execution_count": 35,
     "metadata": {},
     "output_type": "execute_result"
    }
   ],
   "source": [
    "y_pred = lin_reg.predict(X_test)\n",
    "y_pred"
   ]
  },
  {
   "cell_type": "markdown",
   "metadata": {},
   "source": [
    "### Model Evaluation"
   ]
  },
  {
   "cell_type": "code",
   "execution_count": 86,
   "metadata": {},
   "outputs": [],
   "source": [
    "lst = []\n",
    "lst_lin = ['Linear Regression']\n",
    "lst_pol = ['Polynomial Regression']\n",
    "lst_rdg = ['Ridge Regression']\n",
    "lst_las = ['Lasso Regression']"
   ]
  },
  {
   "cell_type": "code",
   "execution_count": 87,
   "metadata": {},
   "outputs": [
    {
     "data": {
      "text/plain": [
       "99.30529739292027"
      ]
     },
     "execution_count": 87,
     "metadata": {},
     "output_type": "execute_result"
    }
   ],
   "source": [
    "# Mean squared error\n",
    "from sklearn.metrics import mean_squared_error\n",
    "lin_mse = mean_squared_error(y_test, y_pred)\n",
    "lst_lin.append(lin_mse)\n",
    "lin_mse"
   ]
  },
  {
   "cell_type": "code",
   "execution_count": 88,
   "metadata": {},
   "outputs": [
    {
     "data": {
      "text/plain": [
       "0.6229642401339568"
      ]
     },
     "execution_count": 88,
     "metadata": {},
     "output_type": "execute_result"
    }
   ],
   "source": [
    "# R2 Score\n",
    "from sklearn.metrics import r2_score\n",
    "lin_r2 = r2_score(y_test, y_pred)\n",
    "lst_lin.append(lin_r2)\n",
    "lin_r2"
   ]
  },
  {
   "cell_type": "code",
   "execution_count": 89,
   "metadata": {},
   "outputs": [],
   "source": [
    "lst.append(lst_lin)"
   ]
  },
  {
   "cell_type": "markdown",
   "metadata": {},
   "source": [
    "### Polynomial Regression"
   ]
  },
  {
   "cell_type": "code",
   "execution_count": 90,
   "metadata": {
    "scrolled": true
   },
   "outputs": [
    {
     "data": {
      "text/plain": [
       "array([31.5362874 , 11.08952953, 80.08445395, 57.38531927, 11.45310127,\n",
       "       38.04638944, 36.32289956, 21.23110252, 71.30828693, 45.36734181,\n",
       "       17.43974161, 44.0875258 , 42.20560121, 23.18947844, 58.00583665,\n",
       "       63.74453855, 31.24557144, 37.50127677, 50.30630188, 39.95792973,\n",
       "       62.96623142, 23.20832758, 25.60285899, 48.08148661, 17.73666651,\n",
       "       22.74294906, 62.33148671, 21.58380512, 63.74453855, 63.85295312,\n",
       "       16.05971926, 47.37578491, 24.72001183, 37.64971772, 19.33696718,\n",
       "        8.75462328, 35.54401388, 25.41245792, 28.14427052, 29.5968244 ,\n",
       "       50.97890982, 41.63088552, 27.09972935, 37.31232486, 49.41362642,\n",
       "       41.6000118 , 27.362191  , 41.37248557, 27.74160753, 66.24536972,\n",
       "       35.51038929, 25.00841833, 24.54143771, 44.53023219, 52.53624904,\n",
       "       48.01778583, 37.62106123, 51.04903983, 65.39566924, 50.3519957 ,\n",
       "       33.80102691, 19.97763783, 53.7454303 , 37.05523311, 13.70751896,\n",
       "       40.60300677, 39.58469488, 17.91866783, 11.10375795, 15.52363587,\n",
       "       18.86300848, 27.14029537, 44.36291199, 20.40043721, 39.17000515,\n",
       "       33.00615639, 31.65985403, 16.06844519, 30.17386393, 36.88443238,\n",
       "       24.51998267, 54.96700821, 20.65678087, 31.0822986 , 51.46786245,\n",
       "       34.27120248, 34.18611562, 49.86215356, 47.96767819, 37.03457331,\n",
       "       65.36726797, 16.26403885, 14.48790137, 39.79344309, 16.68207561,\n",
       "       32.90748344, 18.54237124, 43.96211458, 49.86215356, 38.3150297 ,\n",
       "       25.06261419, 31.6079384 , 36.25122895, 22.07918611, 42.35306852,\n",
       "       37.62077651, 51.77777425, 19.95411181, 29.79224944, 43.81203937,\n",
       "       12.1581698 , 41.24304317, 18.27165964, 31.81525591, 35.91838938,\n",
       "       67.34212314, 33.80102691, 33.88371207, 40.20872151, 23.19487786,\n",
       "       42.97009712, 20.32527902, 71.64742971, 32.1733741 , 16.53075964,\n",
       "       14.67728526, 13.21458191,  8.93744894, 43.62353226, 41.80748318,\n",
       "       32.92140721, 41.71420954, 31.25811112, 23.29885613, 18.05953648,\n",
       "       62.96623142, 47.93758121, 41.78750778,  3.22686165, 14.47496116,\n",
       "       35.88588948, 43.21548742, 23.07556461, 33.20601404, 12.72653624,\n",
       "       26.79828153, 34.18611562, 18.61529946, 28.2625865 , 17.29157177,\n",
       "       17.47639108, 14.48997177, 25.16459107, 38.05521624, 38.68592638,\n",
       "       33.01465123, 40.10278801, 26.561548  , 31.18024998, 24.72459835,\n",
       "       41.25462199, 39.18780861, 12.2171726 , 26.19574608, 26.77613507,\n",
       "       12.81284627, 62.68224932, 51.04903983, 65.92805452,  9.49380176,\n",
       "       39.13354076, 43.17635253, 27.4648721 , 43.50018542, 12.77695974,\n",
       "       14.26199737, 16.95834725, 38.09274914, 29.00629146, 52.15553154,\n",
       "       20.88281236, 21.89867   , 16.2878241 , 48.06554702, 24.83498476,\n",
       "       30.05153171, 38.2203547 , 46.13786344, 17.85579813, 53.7454303 ,\n",
       "       27.0817154 , 70.83726857, 50.06699387, 37.18156868,  3.50980855,\n",
       "       44.66024259, 39.26530524, 32.51162079, 42.54724304, 74.10691249,\n",
       "       19.75315157, 25.48997894, 37.9298778 , 25.67531758, 39.71746963,\n",
       "       16.86330821])"
      ]
     },
     "execution_count": 90,
     "metadata": {},
     "output_type": "execute_result"
    }
   ],
   "source": [
    "from sklearn.preprocessing import PolynomialFeatures\n",
    "poly = PolynomialFeatures(degree = 3)\n",
    "pol_reg = LinearRegression()\n",
    "pol_reg.fit(poly.fit_transform(X_train), y_train)\n",
    "pol_reg.predict(poly.transform(X_test))"
   ]
  },
  {
   "cell_type": "code",
   "execution_count": 91,
   "metadata": {},
   "outputs": [
    {
     "data": {
      "text/plain": [
       "42.14482551013226"
      ]
     },
     "execution_count": 91,
     "metadata": {},
     "output_type": "execute_result"
    }
   ],
   "source": [
    "pol_mse = mean_squared_error(y_test, pol_reg.predict(poly.transform(X_test)))\n",
    "lst_pol.append(pol_mse)\n",
    "pol_mse"
   ]
  },
  {
   "cell_type": "code",
   "execution_count": 92,
   "metadata": {},
   "outputs": [
    {
     "data": {
      "text/plain": [
       "0.8399873246664546"
      ]
     },
     "execution_count": 92,
     "metadata": {},
     "output_type": "execute_result"
    }
   ],
   "source": [
    "pol_r2 = r2_score(y_test, pol_reg.predict(poly.transform(X_test)))\n",
    "lst_pol.append(pol_r2)\n",
    "pol_r2"
   ]
  },
  {
   "cell_type": "code",
   "execution_count": 93,
   "metadata": {},
   "outputs": [],
   "source": [
    "lst.append(lst_pol)"
   ]
  },
  {
   "cell_type": "markdown",
   "metadata": {},
   "source": [
    "### Ridge Regression"
   ]
  },
  {
   "cell_type": "code",
   "execution_count": 94,
   "metadata": {
    "scrolled": true
   },
   "outputs": [
    {
     "data": {
      "text/plain": [
       "Ridge(alpha=0.001, normalize=True)"
      ]
     },
     "execution_count": 94,
     "metadata": {},
     "output_type": "execute_result"
    }
   ],
   "source": [
    "## Selecting the best alpha for Ridge Regression\n",
    "from sklearn.linear_model import Ridge\n",
    "ridge = Ridge(alpha = 0.001, normalize = True)\n",
    "ridge.fit(poly.fit_transform(X_train), y_train)"
   ]
  },
  {
   "cell_type": "code",
   "execution_count": 95,
   "metadata": {},
   "outputs": [
    {
     "name": "stdout",
     "output_type": "stream",
     "text": [
      "Accuracy: 57.56737% (5.62229%)\n"
     ]
    }
   ],
   "source": [
    "results = cross_val_score(estimator = ridge, X = X_train, y = y_train, cv = 10)\n",
    "print(\"Accuracy: %.5f%% (%.5f%%)\" % (results.mean()*100.0, results.std()*100.0))"
   ]
  },
  {
   "cell_type": "code",
   "execution_count": 96,
   "metadata": {},
   "outputs": [
    {
     "name": "stdout",
     "output_type": "stream",
     "text": [
      "best accuracy is : 0.5756736980768188\n"
     ]
    },
    {
     "data": {
      "text/plain": [
       "0.001"
      ]
     },
     "execution_count": 96,
     "metadata": {},
     "output_type": "execute_result"
    }
   ],
   "source": [
    "# Applying Grid Search to find the best model and the best parameters for the Decision Tree model\n",
    "from sklearn.model_selection import GridSearchCV\n",
    "from sklearn.metrics import r2_score, make_scorer\n",
    "parameters = [{'alpha': [1e-15, 1e-10, 1e-8, 1e-5, 1e-4, 1e-3, 1e-2, 1, 5, 10, 20, 30, 40]}]\n",
    "\n",
    "grid_search = GridSearchCV(estimator = ridge,\n",
    "                           param_grid = parameters,\n",
    "                           scoring = make_scorer(r2_score),\n",
    "                           cv=10,\n",
    "                           n_jobs = 3)\n",
    " \n",
    "grid_search = grid_search.fit(X_train, y_train)\n",
    "\n",
    "print(\"best accuracy is :\" , grid_search.best_score_)\n",
    "\n",
    "grid_search.best_estimator_.alpha   # best_parms_  is a method in Grid Search to return The Best with resepct to the Metric "
   ]
  },
  {
   "cell_type": "code",
   "execution_count": 97,
   "metadata": {},
   "outputs": [
    {
     "data": {
      "text/plain": [
       "43.579459639203925"
      ]
     },
     "execution_count": 97,
     "metadata": {},
     "output_type": "execute_result"
    }
   ],
   "source": [
    "rdg_mse = mean_squared_error(y_test, ridge.predict(poly.transform(X_test)))\n",
    "lst_rdg.append(rdg_mse)\n",
    "rdg_mse"
   ]
  },
  {
   "cell_type": "code",
   "execution_count": 98,
   "metadata": {},
   "outputs": [
    {
     "data": {
      "text/plain": [
       "0.8345404010562862"
      ]
     },
     "execution_count": 98,
     "metadata": {},
     "output_type": "execute_result"
    }
   ],
   "source": [
    "rdg_r2 = r2_score(y_test, ridge.predict(poly.transform(X_test)))\n",
    "lst_rdg.append(rdg_r2)\n",
    "rdg_r2"
   ]
  },
  {
   "cell_type": "code",
   "execution_count": 99,
   "metadata": {},
   "outputs": [],
   "source": [
    "lst.append(lst_rdg)"
   ]
  },
  {
   "cell_type": "markdown",
   "metadata": {},
   "source": [
    "### Lasso Regression"
   ]
  },
  {
   "cell_type": "code",
   "execution_count": 100,
   "metadata": {},
   "outputs": [
    {
     "name": "stderr",
     "output_type": "stream",
     "text": [
      "C:\\Users\\Monmon\\anaconda3\\lib\\site-packages\\sklearn\\linear_model\\_coordinate_descent.py:529: ConvergenceWarning: Objective did not converge. You might want to increase the number of iterations. Duality gap: 6315.370241786719, tolerance: 23.258623112598062\n",
      "  model = cd_fast.enet_coordinate_descent(\n"
     ]
    },
    {
     "data": {
      "text/plain": [
       "Lasso(alpha=0.0001, normalize=True)"
      ]
     },
     "execution_count": 100,
     "metadata": {},
     "output_type": "execute_result"
    }
   ],
   "source": [
    "# Select the best alpha for Lasso Regression\n",
    "from sklearn.linear_model import Lasso\n",
    "lasso = Lasso(alpha = 0.0001, normalize = True)\n",
    "lasso.fit(poly.fit_transform(X_train), y_train)"
   ]
  },
  {
   "cell_type": "code",
   "execution_count": 101,
   "metadata": {},
   "outputs": [
    {
     "name": "stdout",
     "output_type": "stream",
     "text": [
      "Accuracy: 57.56596% (5.64801%)\n"
     ]
    }
   ],
   "source": [
    "results = cross_val_score(estimator = lasso, X = X_train, y = y_train, cv = 10)\n",
    "print(\"Accuracy: %.5f%% (%.5f%%)\" % (results.mean()*100.0, results.std()*100.0))"
   ]
  },
  {
   "cell_type": "code",
   "execution_count": 102,
   "metadata": {},
   "outputs": [
    {
     "name": "stdout",
     "output_type": "stream",
     "text": [
      "best accuracy is : 0.5756596250297156\n"
     ]
    },
    {
     "data": {
      "text/plain": [
       "0.0001"
      ]
     },
     "execution_count": 102,
     "metadata": {},
     "output_type": "execute_result"
    }
   ],
   "source": [
    "parameters = [{'alpha': [1e-15, 1e-10, 1e-8, 1e-5, 1e-4, 1e-3, 1e-2, 1, 5, 10, 20, 30, 40]}]\n",
    "\n",
    "grid_search = GridSearchCV(estimator = lasso,\n",
    "                           param_grid = parameters,\n",
    "                           scoring = make_scorer(r2_score),\n",
    "                           cv=10,\n",
    "                           n_jobs = 3)\n",
    " \n",
    "grid_search = grid_search.fit(X_train, y_train)\n",
    "\n",
    "print(\"best accuracy is :\" , grid_search.best_score_)\n",
    "\n",
    "grid_search.best_estimator_.alpha"
   ]
  },
  {
   "cell_type": "code",
   "execution_count": 103,
   "metadata": {},
   "outputs": [
    {
     "data": {
      "text/plain": [
       "42.623562096001834"
      ]
     },
     "execution_count": 103,
     "metadata": {},
     "output_type": "execute_result"
    }
   ],
   "source": [
    "las_mse = mean_squared_error(y_test, lasso.predict(poly.transform(X_test)))\n",
    "lst_las.append(las_mse)\n",
    "las_mse"
   ]
  },
  {
   "cell_type": "code",
   "execution_count": 104,
   "metadata": {},
   "outputs": [
    {
     "data": {
      "text/plain": [
       "0.8381696893824595"
      ]
     },
     "execution_count": 104,
     "metadata": {},
     "output_type": "execute_result"
    }
   ],
   "source": [
    "las_r2 = r2_score(y_test, lasso.predict(poly.transform(X_test)))\n",
    "lst_las.append(las_r2)\n",
    "las_r2"
   ]
  },
  {
   "cell_type": "code",
   "execution_count": 105,
   "metadata": {},
   "outputs": [],
   "source": [
    "lst.append(lst_las)"
   ]
  },
  {
   "cell_type": "code",
   "execution_count": 106,
   "metadata": {},
   "outputs": [
    {
     "data": {
      "text/plain": [
       "[['Linear Regression', 99.30529739292027, 0.6229642401339568],\n",
       " ['Polynomial Regression', 42.14482551013226, 0.8399873246664546],\n",
       " ['Ridge Regression', 43.579459639203925, 0.8345404010562862],\n",
       " ['Lasso Regression', 42.623562096001834, 0.8381696893824595]]"
      ]
     },
     "execution_count": 106,
     "metadata": {},
     "output_type": "execute_result"
    }
   ],
   "source": [
    "lst"
   ]
  },
  {
   "cell_type": "code",
   "execution_count": 107,
   "metadata": {},
   "outputs": [
    {
     "data": {
      "text/html": [
       "<div>\n",
       "<style scoped>\n",
       "    .dataframe tbody tr th:only-of-type {\n",
       "        vertical-align: middle;\n",
       "    }\n",
       "\n",
       "    .dataframe tbody tr th {\n",
       "        vertical-align: top;\n",
       "    }\n",
       "\n",
       "    .dataframe thead th {\n",
       "        text-align: right;\n",
       "    }\n",
       "</style>\n",
       "<table border=\"1\" class=\"dataframe\">\n",
       "  <thead>\n",
       "    <tr style=\"text-align: right;\">\n",
       "      <th></th>\n",
       "      <th>Regression type</th>\n",
       "      <th>Mean Squared Error</th>\n",
       "      <th>R2 Score</th>\n",
       "    </tr>\n",
       "  </thead>\n",
       "  <tbody>\n",
       "    <tr>\n",
       "      <th>0</th>\n",
       "      <td>Linear Regression</td>\n",
       "      <td>99.305297</td>\n",
       "      <td>0.622964</td>\n",
       "    </tr>\n",
       "    <tr>\n",
       "      <th>1</th>\n",
       "      <td>Polynomial Regression</td>\n",
       "      <td>42.144826</td>\n",
       "      <td>0.839987</td>\n",
       "    </tr>\n",
       "    <tr>\n",
       "      <th>2</th>\n",
       "      <td>Ridge Regression</td>\n",
       "      <td>43.579460</td>\n",
       "      <td>0.834540</td>\n",
       "    </tr>\n",
       "    <tr>\n",
       "      <th>3</th>\n",
       "      <td>Lasso Regression</td>\n",
       "      <td>42.623562</td>\n",
       "      <td>0.838170</td>\n",
       "    </tr>\n",
       "  </tbody>\n",
       "</table>\n",
       "</div>"
      ],
      "text/plain": [
       "         Regression type  Mean Squared Error  R2 Score\n",
       "0      Linear Regression           99.305297  0.622964\n",
       "1  Polynomial Regression           42.144826  0.839987\n",
       "2       Ridge Regression           43.579460  0.834540\n",
       "3       Lasso Regression           42.623562  0.838170"
      ]
     },
     "execution_count": 107,
     "metadata": {},
     "output_type": "execute_result"
    }
   ],
   "source": [
    "df_reg = pd.DataFrame(lst, columns = ['Regression type', 'Mean Squared Error', 'R2 Score'])\n",
    "df_reg"
   ]
  },
  {
   "cell_type": "code",
   "execution_count": 108,
   "metadata": {},
   "outputs": [
    {
     "data": {
      "text/plain": [
       "Regression type       Polynomial Regression\n",
       "Mean Squared Error                  42.1448\n",
       "R2 Score                           0.839987\n",
       "Name: 1, dtype: object"
      ]
     },
     "execution_count": 108,
     "metadata": {},
     "output_type": "execute_result"
    }
   ],
   "source": [
    "df_reg.iloc[df_reg['R2 Score'].idxmax()]"
   ]
  },
  {
   "cell_type": "code",
   "execution_count": 109,
   "metadata": {},
   "outputs": [
    {
     "data": {
      "image/png": "[encoded data removed]",
      "text/plain": [
       "<Figure size 432x288 with 1 Axes>"
      ]
     },
     "metadata": {},
     "output_type": "display_data"
    }
   ],
   "source": [
    "plt.title('Lasso Regression, alpha=0.0001')\n",
    "plt.plot(y_test, '.', lasso.predict(poly.transform(X_test)), '-o')\n",
    "plt.show()"
   ]
  },
  {
   "cell_type": "code",
   "execution_count": 110,
   "metadata": {},
   "outputs": [
    {
     "data": {
      "image/png": "[encoded data removed]",
      "text/plain": [
       "<Figure size 432x288 with 1 Axes>"
      ]
     },
     "metadata": {},
     "output_type": "display_data"
    }
   ],
   "source": [
    "plt.title('Lasso Regression, alpha=0.0001')\n",
    "plt.plot(y, '.', lasso.predict(poly.transform(sc.transform(X))), '-o')\n",
    "plt.show()"
   ]
  },
  {
   "cell_type": "markdown",
   "metadata": {},
   "source": [
    "## Repeating the last regression models with normalized features from PCA"
   ]
  },
  {
   "cell_type": "code",
   "execution_count": 312,
   "metadata": {},
   "outputs": [
    {
     "data": {
      "text/plain": [
       "array([[ 1.27561188,  1.2922957 ,  1.20261751, -0.74400399,  0.69469424,\n",
       "         0.32064424],\n",
       "       [ 0.44428231,  1.39205785,  0.26053264, -0.83856007, -0.45996899,\n",
       "         0.2349422 ],\n",
       "       [ 1.22660163, -0.83947133,  0.3661708 , -0.28062116,  0.30010685,\n",
       "         0.43621312],\n",
       "       ...,\n",
       "       [-2.45055   , -0.38768791,  0.03016665,  0.62651848,  0.59421835,\n",
       "         0.14922695],\n",
       "       [ 2.16327712, -2.47317967, -1.2609608 , -0.59986802, -0.00843494,\n",
       "        -0.58288026],\n",
       "       [ 1.66494145, -1.99631851, -1.03017824,  0.61115027, -0.40044396,\n",
       "        -0.19425615]])"
      ]
     },
     "execution_count": 312,
     "metadata": {},
     "output_type": "execute_result"
    }
   ],
   "source": [
    "pca = PCA(n_components=6)\n",
    "pca.fit(X_train) \n",
    "X_train_pca = pca.transform(X_train)\n",
    "X_train_pca"
   ]
  },
  {
   "cell_type": "code",
   "execution_count": 313,
   "metadata": {
    "collapsed": true,
    "jupyter": {
     "outputs_hidden": true
    }
   },
   "outputs": [
    {
     "data": {
      "text/plain": [
       "array([[ 1.47233111,  2.55104125, -0.77733397, -2.19270318,  0.3517526 ,\n",
       "        -0.03600707],\n",
       "       [ 0.03481417, -1.80639779, -0.37745994, -0.27497522, -1.12017825,\n",
       "         0.4548136 ],\n",
       "       [ 1.70399245, -0.40579195,  0.14474489,  0.36538166, -0.19124794,\n",
       "        -0.61892665],\n",
       "       ...,\n",
       "       [-1.99934056, -0.25593819, -0.74808241, -0.05350982,  0.57335621,\n",
       "        -0.31221335],\n",
       "       [ 0.06090688, -0.84432198,  0.07893844,  0.03389779,  0.97661426,\n",
       "         0.18344094],\n",
       "       [-1.49054476,  0.069772  ,  0.83637788, -0.13302158, -0.05445917,\n",
       "         0.09929757]])"
      ]
     },
     "execution_count": 313,
     "metadata": {},
     "output_type": "execute_result"
    }
   ],
   "source": [
    "X_test_pca = pca.transform(X_test)\n",
    "X_test_pca"
   ]
  },
  {
   "cell_type": "code",
   "execution_count": 314,
   "metadata": {},
   "outputs": [
    {
     "data": {
      "text/plain": [
       "array([0.27306042, 0.22605518, 0.18963063, 0.15178194, 0.13681436,\n",
       "       0.02265747])"
      ]
     },
     "execution_count": 314,
     "metadata": {},
     "output_type": "execute_result"
    }
   ],
   "source": [
    "pca.explained_variance_ratio_"
   ]
  },
  {
   "cell_type": "code",
   "execution_count": 315,
   "metadata": {},
   "outputs": [],
   "source": [
    "# Building dataframe from the selected PCs of X_train with y_train\n",
    "df_feat = pd.DataFrame(X_train_pca, columns=['PC1', 'PC2','PC3', 'PC4', 'PC5', 'PC6'])\n",
    "df_feat = df_feat.reset_index(drop=True)\n",
    "\n",
    "df_label = pd.DataFrame(y_train)\n",
    "df_label = df_label.reset_index(drop=True)\n",
    "\n",
    "df_pca = pd.concat([df_feat, df_label], axis=1)"
   ]
  },
  {
   "cell_type": "code",
   "execution_count": 316,
   "metadata": {},
   "outputs": [
    {
     "data": {
      "text/html": [
       "<div>\n",
       "<style scoped>\n",
       "    .dataframe tbody tr th:only-of-type {\n",
       "        vertical-align: middle;\n",
       "    }\n",
       "\n",
       "    .dataframe tbody tr th {\n",
       "        vertical-align: top;\n",
       "    }\n",
       "\n",
       "    .dataframe thead th {\n",
       "        text-align: right;\n",
       "    }\n",
       "</style>\n",
       "<table border=\"1\" class=\"dataframe\">\n",
       "  <thead>\n",
       "    <tr style=\"text-align: right;\">\n",
       "      <th></th>\n",
       "      <th>PC1</th>\n",
       "      <th>PC2</th>\n",
       "      <th>PC3</th>\n",
       "      <th>PC4</th>\n",
       "      <th>PC5</th>\n",
       "      <th>PC6</th>\n",
       "      <th>Concrete_strength_MPa</th>\n",
       "    </tr>\n",
       "  </thead>\n",
       "  <tbody>\n",
       "    <tr>\n",
       "      <th>0</th>\n",
       "      <td>1.275612</td>\n",
       "      <td>1.292296</td>\n",
       "      <td>1.202618</td>\n",
       "      <td>-0.744004</td>\n",
       "      <td>0.694694</td>\n",
       "      <td>0.320644</td>\n",
       "      <td>43.892042</td>\n",
       "    </tr>\n",
       "    <tr>\n",
       "      <th>1</th>\n",
       "      <td>0.444282</td>\n",
       "      <td>1.392058</td>\n",
       "      <td>0.260533</td>\n",
       "      <td>-0.838560</td>\n",
       "      <td>-0.459969</td>\n",
       "      <td>0.234942</td>\n",
       "      <td>38.210760</td>\n",
       "    </tr>\n",
       "    <tr>\n",
       "      <th>2</th>\n",
       "      <td>1.226602</td>\n",
       "      <td>-0.839471</td>\n",
       "      <td>0.366171</td>\n",
       "      <td>-0.280621</td>\n",
       "      <td>0.300107</td>\n",
       "      <td>0.436213</td>\n",
       "      <td>33.419591</td>\n",
       "    </tr>\n",
       "    <tr>\n",
       "      <th>3</th>\n",
       "      <td>-1.276474</td>\n",
       "      <td>0.627233</td>\n",
       "      <td>-0.483081</td>\n",
       "      <td>-0.649878</td>\n",
       "      <td>0.428156</td>\n",
       "      <td>0.098481</td>\n",
       "      <td>13.120728</td>\n",
       "    </tr>\n",
       "    <tr>\n",
       "      <th>4</th>\n",
       "      <td>1.859952</td>\n",
       "      <td>2.939235</td>\n",
       "      <td>-1.074209</td>\n",
       "      <td>-0.943247</td>\n",
       "      <td>0.257615</td>\n",
       "      <td>-0.190953</td>\n",
       "      <td>47.222211</td>\n",
       "    </tr>\n",
       "    <tr>\n",
       "      <th>...</th>\n",
       "      <td>...</td>\n",
       "      <td>...</td>\n",
       "      <td>...</td>\n",
       "      <td>...</td>\n",
       "      <td>...</td>\n",
       "      <td>...</td>\n",
       "      <td>...</td>\n",
       "    </tr>\n",
       "    <tr>\n",
       "      <th>819</th>\n",
       "      <td>-1.040336</td>\n",
       "      <td>0.863718</td>\n",
       "      <td>-0.663936</td>\n",
       "      <td>0.111285</td>\n",
       "      <td>0.370808</td>\n",
       "      <td>0.004089</td>\n",
       "      <td>36.969703</td>\n",
       "    </tr>\n",
       "    <tr>\n",
       "      <th>820</th>\n",
       "      <td>0.474389</td>\n",
       "      <td>0.872141</td>\n",
       "      <td>0.960440</td>\n",
       "      <td>-0.943533</td>\n",
       "      <td>0.001903</td>\n",
       "      <td>0.511556</td>\n",
       "      <td>6.267337</td>\n",
       "    </tr>\n",
       "    <tr>\n",
       "      <th>821</th>\n",
       "      <td>-2.450550</td>\n",
       "      <td>-0.387688</td>\n",
       "      <td>0.030167</td>\n",
       "      <td>0.626518</td>\n",
       "      <td>0.594218</td>\n",
       "      <td>0.149227</td>\n",
       "      <td>15.416683</td>\n",
       "    </tr>\n",
       "    <tr>\n",
       "      <th>822</th>\n",
       "      <td>2.163277</td>\n",
       "      <td>-2.473180</td>\n",
       "      <td>-1.260961</td>\n",
       "      <td>-0.599868</td>\n",
       "      <td>-0.008435</td>\n",
       "      <td>-0.582880</td>\n",
       "      <td>39.435269</td>\n",
       "    </tr>\n",
       "    <tr>\n",
       "      <th>823</th>\n",
       "      <td>1.664941</td>\n",
       "      <td>-1.996319</td>\n",
       "      <td>-1.030178</td>\n",
       "      <td>0.611150</td>\n",
       "      <td>-0.400444</td>\n",
       "      <td>-0.194256</td>\n",
       "      <td>50.732334</td>\n",
       "    </tr>\n",
       "  </tbody>\n",
       "</table>\n",
       "<p>824 rows × 7 columns</p>\n",
       "</div>"
      ],
      "text/plain": [
       "          PC1       PC2       PC3       PC4       PC5       PC6  \\\n",
       "0    1.275612  1.292296  1.202618 -0.744004  0.694694  0.320644   \n",
       "1    0.444282  1.392058  0.260533 -0.838560 -0.459969  0.234942   \n",
       "2    1.226602 -0.839471  0.366171 -0.280621  0.300107  0.436213   \n",
       "3   -1.276474  0.627233 -0.483081 -0.649878  0.428156  0.098481   \n",
       "4    1.859952  2.939235 -1.074209 -0.943247  0.257615 -0.190953   \n",
       "..        ...       ...       ...       ...       ...       ...   \n",
       "819 -1.040336  0.863718 -0.663936  0.111285  0.370808  0.004089   \n",
       "820  0.474389  0.872141  0.960440 -0.943533  0.001903  0.511556   \n",
       "821 -2.450550 -0.387688  0.030167  0.626518  0.594218  0.149227   \n",
       "822  2.163277 -2.473180 -1.260961 -0.599868 -0.008435 -0.582880   \n",
       "823  1.664941 -1.996319 -1.030178  0.611150 -0.400444 -0.194256   \n",
       "\n",
       "     Concrete_strength_MPa  \n",
       "0                43.892042  \n",
       "1                38.210760  \n",
       "2                33.419591  \n",
       "3                13.120728  \n",
       "4                47.222211  \n",
       "..                     ...  \n",
       "819              36.969703  \n",
       "820               6.267337  \n",
       "821              15.416683  \n",
       "822              39.435269  \n",
       "823              50.732334  \n",
       "\n",
       "[824 rows x 7 columns]"
      ]
     },
     "execution_count": 316,
     "metadata": {},
     "output_type": "execute_result"
    }
   ],
   "source": [
    "df_pca"
   ]
  },
  {
   "cell_type": "code",
   "execution_count": 317,
   "metadata": {},
   "outputs": [],
   "source": [
    "# Building dataframe from the selected PCs of X_test with y_test\n",
    "df_feat = pd.DataFrame(X_test_pca, columns=['PC1', 'PC2','PC3', 'PC4', 'PC5', 'PC6'])\n",
    "df_feat = df_feat.reset_index(drop=True)\n",
    "\n",
    "df_label = pd.DataFrame(y_test)\n",
    "df_label = df_label.reset_index(drop=True)\n",
    "\n",
    "df_pca_test = pd.concat([df_feat, df_label], axis=1)"
   ]
  },
  {
   "cell_type": "code",
   "execution_count": 318,
   "metadata": {},
   "outputs": [
    {
     "data": {
      "text/html": [
       "<div>\n",
       "<style scoped>\n",
       "    .dataframe tbody tr th:only-of-type {\n",
       "        vertical-align: middle;\n",
       "    }\n",
       "\n",
       "    .dataframe tbody tr th {\n",
       "        vertical-align: top;\n",
       "    }\n",
       "\n",
       "    .dataframe thead th {\n",
       "        text-align: right;\n",
       "    }\n",
       "</style>\n",
       "<table border=\"1\" class=\"dataframe\">\n",
       "  <thead>\n",
       "    <tr style=\"text-align: right;\">\n",
       "      <th></th>\n",
       "      <th>PC1</th>\n",
       "      <th>PC2</th>\n",
       "      <th>PC3</th>\n",
       "      <th>PC4</th>\n",
       "      <th>PC5</th>\n",
       "      <th>PC6</th>\n",
       "      <th>Concrete_strength_MPa</th>\n",
       "    </tr>\n",
       "  </thead>\n",
       "  <tbody>\n",
       "    <tr>\n",
       "      <th>0</th>\n",
       "      <td>1.472331</td>\n",
       "      <td>2.551041</td>\n",
       "      <td>-0.777334</td>\n",
       "      <td>-2.192703</td>\n",
       "      <td>0.351753</td>\n",
       "      <td>-0.036007</td>\n",
       "      <td>26.062193</td>\n",
       "    </tr>\n",
       "    <tr>\n",
       "      <th>1</th>\n",
       "      <td>0.034814</td>\n",
       "      <td>-1.806398</td>\n",
       "      <td>-0.377460</td>\n",
       "      <td>-0.274975</td>\n",
       "      <td>-1.120178</td>\n",
       "      <td>0.454814</td>\n",
       "      <td>10.354551</td>\n",
       "    </tr>\n",
       "    <tr>\n",
       "      <th>2</th>\n",
       "      <td>1.703992</td>\n",
       "      <td>-0.405792</td>\n",
       "      <td>0.144745</td>\n",
       "      <td>0.365382</td>\n",
       "      <td>-0.191248</td>\n",
       "      <td>-0.618927</td>\n",
       "      <td>79.296635</td>\n",
       "    </tr>\n",
       "    <tr>\n",
       "      <th>3</th>\n",
       "      <td>0.589598</td>\n",
       "      <td>1.036041</td>\n",
       "      <td>2.912997</td>\n",
       "      <td>-0.207588</td>\n",
       "      <td>-0.132100</td>\n",
       "      <td>-0.486721</td>\n",
       "      <td>74.987410</td>\n",
       "    </tr>\n",
       "    <tr>\n",
       "      <th>4</th>\n",
       "      <td>0.538478</td>\n",
       "      <td>-2.185528</td>\n",
       "      <td>-0.323748</td>\n",
       "      <td>-0.388998</td>\n",
       "      <td>-0.815669</td>\n",
       "      <td>0.146020</td>\n",
       "      <td>9.694722</td>\n",
       "    </tr>\n",
       "    <tr>\n",
       "      <th>...</th>\n",
       "      <td>...</td>\n",
       "      <td>...</td>\n",
       "      <td>...</td>\n",
       "      <td>...</td>\n",
       "      <td>...</td>\n",
       "      <td>...</td>\n",
       "      <td>...</td>\n",
       "    </tr>\n",
       "    <tr>\n",
       "      <th>201</th>\n",
       "      <td>0.000303</td>\n",
       "      <td>0.591565</td>\n",
       "      <td>0.862636</td>\n",
       "      <td>-0.271551</td>\n",
       "      <td>-0.580101</td>\n",
       "      <td>0.610370</td>\n",
       "      <td>27.530777</td>\n",
       "    </tr>\n",
       "    <tr>\n",
       "      <th>202</th>\n",
       "      <td>-0.526787</td>\n",
       "      <td>-2.283112</td>\n",
       "      <td>-0.282903</td>\n",
       "      <td>0.585765</td>\n",
       "      <td>1.503800</td>\n",
       "      <td>-0.068281</td>\n",
       "      <td>33.762261</td>\n",
       "    </tr>\n",
       "    <tr>\n",
       "      <th>203</th>\n",
       "      <td>-1.999341</td>\n",
       "      <td>-0.255938</td>\n",
       "      <td>-0.748082</td>\n",
       "      <td>-0.053510</td>\n",
       "      <td>0.573356</td>\n",
       "      <td>-0.312213</td>\n",
       "      <td>33.005216</td>\n",
       "    </tr>\n",
       "    <tr>\n",
       "      <th>204</th>\n",
       "      <td>0.060907</td>\n",
       "      <td>-0.844322</td>\n",
       "      <td>0.078938</td>\n",
       "      <td>0.033898</td>\n",
       "      <td>0.976614</td>\n",
       "      <td>0.183441</td>\n",
       "      <td>33.715376</td>\n",
       "    </tr>\n",
       "    <tr>\n",
       "      <th>205</th>\n",
       "      <td>-1.490545</td>\n",
       "      <td>0.069772</td>\n",
       "      <td>0.836378</td>\n",
       "      <td>-0.133022</td>\n",
       "      <td>-0.054459</td>\n",
       "      <td>0.099298</td>\n",
       "      <td>13.817099</td>\n",
       "    </tr>\n",
       "  </tbody>\n",
       "</table>\n",
       "<p>206 rows × 7 columns</p>\n",
       "</div>"
      ],
      "text/plain": [
       "          PC1       PC2       PC3       PC4       PC5       PC6  \\\n",
       "0    1.472331  2.551041 -0.777334 -2.192703  0.351753 -0.036007   \n",
       "1    0.034814 -1.806398 -0.377460 -0.274975 -1.120178  0.454814   \n",
       "2    1.703992 -0.405792  0.144745  0.365382 -0.191248 -0.618927   \n",
       "3    0.589598  1.036041  2.912997 -0.207588 -0.132100 -0.486721   \n",
       "4    0.538478 -2.185528 -0.323748 -0.388998 -0.815669  0.146020   \n",
       "..        ...       ...       ...       ...       ...       ...   \n",
       "201  0.000303  0.591565  0.862636 -0.271551 -0.580101  0.610370   \n",
       "202 -0.526787 -2.283112 -0.282903  0.585765  1.503800 -0.068281   \n",
       "203 -1.999341 -0.255938 -0.748082 -0.053510  0.573356 -0.312213   \n",
       "204  0.060907 -0.844322  0.078938  0.033898  0.976614  0.183441   \n",
       "205 -1.490545  0.069772  0.836378 -0.133022 -0.054459  0.099298   \n",
       "\n",
       "     Concrete_strength_MPa  \n",
       "0                26.062193  \n",
       "1                10.354551  \n",
       "2                79.296635  \n",
       "3                74.987410  \n",
       "4                 9.694722  \n",
       "..                     ...  \n",
       "201              27.530777  \n",
       "202              33.762261  \n",
       "203              33.005216  \n",
       "204              33.715376  \n",
       "205              13.817099  \n",
       "\n",
       "[206 rows x 7 columns]"
      ]
     },
     "execution_count": 318,
     "metadata": {},
     "output_type": "execute_result"
    }
   ],
   "source": [
    "df_pca_test"
   ]
  },
  {
   "cell_type": "markdown",
   "metadata": {},
   "source": [
    "### Multi Linear Regression"
   ]
  },
  {
   "cell_type": "code",
   "execution_count": 319,
   "metadata": {},
   "outputs": [],
   "source": [
    "X_train_pcs = df_pca.drop(['Concrete_strength_MPa'], 1)\n",
    "y_train_pcs = df_pca['Concrete_strength_MPa']\n",
    "X_test_pcs = df_pca_test.drop(['Concrete_strength_MPa'], 1)\n",
    "y_test_pcs = df_pca_test['Concrete_strength_MPa']"
   ]
  },
  {
   "cell_type": "code",
   "execution_count": 320,
   "metadata": {
    "scrolled": true
   },
   "outputs": [
    {
     "data": {
      "text/plain": [
       "LinearRegression()"
      ]
     },
     "execution_count": 320,
     "metadata": {},
     "output_type": "execute_result"
    }
   ],
   "source": [
    "from sklearn.linear_model import LinearRegression\n",
    "lin_reg = LinearRegression()\n",
    "lin_reg.fit(X_train_pcs, y_train_pcs)"
   ]
  },
  {
   "cell_type": "code",
   "execution_count": 321,
   "metadata": {},
   "outputs": [
    {
     "name": "stdout",
     "output_type": "stream",
     "text": [
      "Accuracy: 57.56527% (5.65835%)\n"
     ]
    }
   ],
   "source": [
    "# Applying k-Fold Cross Validation\n",
    "from sklearn.model_selection import cross_val_score\n",
    "results = cross_val_score(estimator = lin_reg, X = X_train_pcs, y = y_train_pcs, cv = 10)\n",
    "print(\"Accuracy: %.5f%% (%.5f%%)\" % (results.mean()*100.0, results.std()*100.0))"
   ]
  },
  {
   "cell_type": "code",
   "execution_count": 322,
   "metadata": {},
   "outputs": [
    {
     "data": {
      "text/plain": [
       "array([42.67535593, 15.48610278, 61.01062453, 57.58777058, 26.26695098,\n",
       "       47.45319343, 40.67835232, 25.60231022, 52.88220534, 36.53624114,\n",
       "       15.51955459, 37.56716099, 32.46384518, 39.06068483, 46.68289729,\n",
       "       55.00900533, 34.31087026, 30.65843417, 49.67022977, 36.49958639,\n",
       "       55.51049403, 32.60679249, 33.57088627, 49.21516908, 23.83012815,\n",
       "       23.70424438, 60.98320141, 25.90614851, 55.00900533, 46.00645034,\n",
       "       18.80537549, 35.63795025, 18.17287679, 19.08936954, 24.27490446,\n",
       "       16.07020419, 46.99813274, 28.34466875, 28.56507756, 27.14009978,\n",
       "       54.94107004, 30.10244008, 23.22630061, 36.22920949, 51.50924265,\n",
       "       52.70966911, 31.11291354, 46.76273915, 26.63661257, 57.27366728,\n",
       "       34.27685524, 20.04049367, 22.00047216, 37.46951277, 44.42030191,\n",
       "       51.94811884, 33.48071315, 51.8235805 , 58.73922325, 36.75506449,\n",
       "       31.33755712, 23.63443649, 52.05773736, 50.92581352, 22.73893871,\n",
       "       40.81738704, 34.19141959, 33.8359687 , 15.7033844 , 19.54543806,\n",
       "       26.53193926, 26.40917654, 53.1647298 , 20.4019282 , 38.69396522,\n",
       "       48.97945118, 27.93157913, 19.94011932, 24.731821  , 28.8036037 ,\n",
       "       14.2844413 , 44.20271453, 30.63658384, 34.25093492, 39.68501122,\n",
       "       31.94379635, 49.93600058, 52.3250692 , 39.06266623, 30.68428575,\n",
       "       54.36357188, 22.0599136 , 24.35089332, 35.90358267, 22.49073035,\n",
       "       56.17043947, 33.38508017, 35.60614192, 52.3250692 , 27.91724583,\n",
       "       33.26643893, 35.95846096, 28.41257373, 30.57662124, 33.47737313,\n",
       "       34.2559313 , 39.27505986, 31.2284638 , 28.60311327, 40.91212155,\n",
       "       19.45040427, 44.23354144, 26.28467362, 34.32703151, 36.92194418,\n",
       "       66.89917468, 31.33755712, 33.50738938, 42.02412722, 33.07561462,\n",
       "       45.51948524, 25.06253224, 57.15994911, 29.27842035, 14.0486551 ,\n",
       "       20.65659802, 14.65247632, 20.97056837, 37.81535792, 34.98591379,\n",
       "       29.74027129, 46.77510666, 34.90687397, 24.65535592, 16.88279594,\n",
       "       55.51049403, 61.38786252, 38.55941021, 13.4221807 , 19.90546496,\n",
       "       39.32509638, 46.62054128, 33.63932346, 19.60094727, 16.421459  ,\n",
       "       35.84111031, 49.93600058, 28.86177068, 26.26992326, 15.57543696,\n",
       "       27.10260388, 22.56795143, 26.33886671, 18.93480415, 31.69445471,\n",
       "       31.15432362, 48.64769033, 30.69004966, 29.90097614, 23.60499347,\n",
       "       36.21439505, 46.07904441, 21.65128595, 26.21919678, 28.64198837,\n",
       "       27.80433103, 56.96453652, 51.8235805 , 57.42823266, 11.1808188 ,\n",
       "       31.13308614, 36.72632959, 25.60661596, 58.48577157, 25.94454585,\n",
       "       22.92279709, 15.77184709, 48.78907843, 23.04899939, 38.01324419,\n",
       "       35.5291584 , 30.50113226, 18.96541208, 41.67611099, 31.18057103,\n",
       "       27.05877978, 40.34130561, 39.39425465, 27.44781899, 52.05773736,\n",
       "       22.03279016, 64.16862624, 43.25907623, 27.20034913, 16.40859758,\n",
       "       29.83768933, 32.07686162, 26.86114948, 33.13215802, 60.97062418,\n",
       "       18.44778126, 20.14690844, 37.98294271, 33.34518408, 34.29029735,\n",
       "       26.43429104])"
      ]
     },
     "execution_count": 322,
     "metadata": {},
     "output_type": "execute_result"
    }
   ],
   "source": [
    "y_pred = lin_reg.predict(X_test_pcs)\n",
    "y_pred"
   ]
  },
  {
   "cell_type": "markdown",
   "metadata": {},
   "source": [
    "### Model Evaluation"
   ]
  },
  {
   "cell_type": "code",
   "execution_count": 323,
   "metadata": {},
   "outputs": [],
   "source": [
    "lst_pca = []\n",
    "lst_lin = ['Linear Regression']\n",
    "lst_pol = ['Polynomial Regression']\n",
    "lst_rdg = ['Ridge Regression']\n",
    "lst_las = ['Lasso Regression']"
   ]
  },
  {
   "cell_type": "code",
   "execution_count": 324,
   "metadata": {},
   "outputs": [
    {
     "data": {
      "text/plain": [
       "99.30529739292021"
      ]
     },
     "execution_count": 324,
     "metadata": {},
     "output_type": "execute_result"
    }
   ],
   "source": [
    "# Mean squared error\n",
    "lin_mse = mean_squared_error(y_test_pcs, y_pred)\n",
    "lst_lin.append(lin_mse)\n",
    "lin_mse"
   ]
  },
  {
   "cell_type": "code",
   "execution_count": 325,
   "metadata": {},
   "outputs": [
    {
     "data": {
      "text/plain": [
       "0.622964240133957"
      ]
     },
     "execution_count": 325,
     "metadata": {},
     "output_type": "execute_result"
    }
   ],
   "source": [
    "# R2 Score\n",
    "lin_r2 = r2_score(y_test_pcs, y_pred)\n",
    "lst_lin.append(lin_r2)\n",
    "lin_r2"
   ]
  },
  {
   "cell_type": "code",
   "execution_count": 326,
   "metadata": {},
   "outputs": [],
   "source": [
    "lst_pca.append(lst_lin)"
   ]
  },
  {
   "cell_type": "markdown",
   "metadata": {},
   "source": [
    "### Polynomial Regression"
   ]
  },
  {
   "cell_type": "code",
   "execution_count": 327,
   "metadata": {
    "scrolled": true
   },
   "outputs": [
    {
     "data": {
      "text/plain": [
       "array([31.5362874 , 11.08952953, 80.08445395, 57.38531927, 11.45310127,\n",
       "       38.04638944, 36.32289956, 21.23110252, 71.30828693, 45.36734181,\n",
       "       17.43974161, 44.0875258 , 42.20560121, 23.18947844, 58.00583665,\n",
       "       63.74453855, 31.24557144, 37.50127677, 50.30630188, 39.95792973,\n",
       "       62.96623142, 23.20832758, 25.60285899, 48.08148661, 17.73666651,\n",
       "       22.74294906, 62.33148671, 21.58380512, 63.74453855, 63.85295312,\n",
       "       16.05971926, 47.37578491, 24.72001183, 37.64971772, 19.33696718,\n",
       "        8.75462328, 35.54401388, 25.41245792, 28.14427052, 29.5968244 ,\n",
       "       50.97890982, 41.63088552, 27.09972935, 37.31232486, 49.41362642,\n",
       "       41.6000118 , 27.362191  , 41.37248557, 27.74160753, 66.24536972,\n",
       "       35.51038929, 25.00841833, 24.54143771, 44.53023219, 52.53624904,\n",
       "       48.01778583, 37.62106123, 51.04903983, 65.39566924, 50.3519957 ,\n",
       "       33.80102691, 19.97763783, 53.7454303 , 37.05523311, 13.70751896,\n",
       "       40.60300677, 39.58469488, 17.91866783, 11.10375795, 15.52363587,\n",
       "       18.86300848, 27.14029537, 44.36291199, 20.40043721, 39.17000515,\n",
       "       33.00615639, 31.65985403, 16.06844519, 30.17386393, 36.88443238,\n",
       "       24.51998267, 54.96700821, 20.65678087, 31.0822986 , 51.46786245,\n",
       "       34.27120248, 34.18611562, 49.86215356, 47.96767819, 37.03457331,\n",
       "       65.36726797, 16.26403885, 14.48790137, 39.79344309, 16.68207561,\n",
       "       32.90748344, 18.54237124, 43.96211458, 49.86215356, 38.3150297 ,\n",
       "       25.06261419, 31.6079384 , 36.25122895, 22.07918611, 42.35306852,\n",
       "       37.62077651, 51.77777425, 19.95411181, 29.79224944, 43.81203937,\n",
       "       12.1581698 , 41.24304317, 18.27165964, 31.81525591, 35.91838938,\n",
       "       67.34212314, 33.80102691, 33.88371207, 40.20872151, 23.19487786,\n",
       "       42.97009712, 20.32527902, 71.64742971, 32.1733741 , 16.53075964,\n",
       "       14.67728526, 13.21458191,  8.93744894, 43.62353226, 41.80748318,\n",
       "       32.92140721, 41.71420954, 31.25811112, 23.29885613, 18.05953648,\n",
       "       62.96623142, 47.93758121, 41.78750778,  3.22686165, 14.47496116,\n",
       "       35.88588948, 43.21548742, 23.07556461, 33.20601404, 12.72653624,\n",
       "       26.79828153, 34.18611562, 18.61529946, 28.2625865 , 17.29157177,\n",
       "       17.47639108, 14.48997177, 25.16459107, 38.05521624, 38.68592638,\n",
       "       33.01465123, 40.10278801, 26.561548  , 31.18024998, 24.72459835,\n",
       "       41.25462199, 39.18780861, 12.2171726 , 26.19574608, 26.77613507,\n",
       "       12.81284627, 62.68224932, 51.04903983, 65.92805452,  9.49380176,\n",
       "       39.13354076, 43.17635253, 27.4648721 , 43.50018542, 12.77695974,\n",
       "       14.26199737, 16.95834725, 38.09274914, 29.00629146, 52.15553154,\n",
       "       20.88281236, 21.89867   , 16.2878241 , 48.06554702, 24.83498476,\n",
       "       30.05153171, 38.2203547 , 46.13786344, 17.85579813, 53.7454303 ,\n",
       "       27.0817154 , 70.83726857, 50.06699387, 37.18156868,  3.50980855,\n",
       "       44.66024259, 39.26530524, 32.51162079, 42.54724304, 74.10691249,\n",
       "       19.75315157, 25.48997894, 37.9298778 , 25.67531758, 39.71746963,\n",
       "       16.86330821])"
      ]
     },
     "execution_count": 327,
     "metadata": {},
     "output_type": "execute_result"
    }
   ],
   "source": [
    "poly = PolynomialFeatures(degree = 3)\n",
    "pol_reg = LinearRegression()\n",
    "pol_reg.fit(poly.fit_transform(X_train_pcs), y_train_pcs)\n",
    "pol_reg.predict(poly.transform(X_test_pcs))"
   ]
  },
  {
   "cell_type": "code",
   "execution_count": 328,
   "metadata": {},
   "outputs": [
    {
     "data": {
      "text/plain": [
       "42.144825510132726"
      ]
     },
     "execution_count": 328,
     "metadata": {},
     "output_type": "execute_result"
    }
   ],
   "source": [
    "pol_mse = mean_squared_error(y_test_pcs, pol_reg.predict(poly.transform(X_test_pcs)))\n",
    "lst_pol.append(pol_mse)\n",
    "pol_mse"
   ]
  },
  {
   "cell_type": "code",
   "execution_count": 329,
   "metadata": {},
   "outputs": [
    {
     "data": {
      "text/plain": [
       "0.8399873246664529"
      ]
     },
     "execution_count": 329,
     "metadata": {},
     "output_type": "execute_result"
    }
   ],
   "source": [
    "pol_r2 = r2_score(y_test_pcs, pol_reg.predict(poly.transform(X_test_pcs)))\n",
    "lst_pol.append(pol_r2)\n",
    "pol_r2"
   ]
  },
  {
   "cell_type": "code",
   "execution_count": 330,
   "metadata": {},
   "outputs": [],
   "source": [
    "lst_pca.append(lst_pol)"
   ]
  },
  {
   "cell_type": "markdown",
   "metadata": {},
   "source": [
    "### Ridge Regression"
   ]
  },
  {
   "cell_type": "code",
   "execution_count": 331,
   "metadata": {
    "scrolled": true
   },
   "outputs": [
    {
     "data": {
      "text/plain": [
       "Ridge(alpha=0.01, normalize=True)"
      ]
     },
     "execution_count": 331,
     "metadata": {},
     "output_type": "execute_result"
    }
   ],
   "source": [
    "## Selecting the best alpha for Ridge Regression\n",
    "from sklearn.linear_model import Ridge\n",
    "ridge = Ridge(alpha = 0.01, normalize = True)\n",
    "ridge.fit(poly.fit_transform(X_train_pcs), y_train_pcs)"
   ]
  },
  {
   "cell_type": "code",
   "execution_count": 332,
   "metadata": {},
   "outputs": [
    {
     "name": "stdout",
     "output_type": "stream",
     "text": [
      "Accuracy: 57.57650% (5.58102%)\n"
     ]
    }
   ],
   "source": [
    "results = cross_val_score(estimator = ridge, X = X_train_pcs, y = y_train_pcs, cv = 10)\n",
    "print(\"Accuracy: %.5f%% (%.5f%%)\" % (results.mean()*100.0, results.std()*100.0))"
   ]
  },
  {
   "cell_type": "code",
   "execution_count": 333,
   "metadata": {},
   "outputs": [
    {
     "name": "stdout",
     "output_type": "stream",
     "text": [
      "best accuracy is : 0.5757649599599253\n"
     ]
    },
    {
     "data": {
      "text/plain": [
       "0.01"
      ]
     },
     "execution_count": 333,
     "metadata": {},
     "output_type": "execute_result"
    }
   ],
   "source": [
    "# Applying Grid Search to find the best model and the best parameters for the Decision Tree model\n",
    "parameters = [{'alpha': [1e-15, 1e-10, 1e-8, 1e-5, 1e-4, 1e-3, 1e-2, 1, 5, 10, 20, 30, 40]}]\n",
    "\n",
    "grid_search = GridSearchCV(estimator = ridge,\n",
    "                           param_grid = parameters,\n",
    "                           scoring = make_scorer(r2_score),\n",
    "                           cv=10,\n",
    "                           n_jobs = 3)\n",
    " \n",
    "grid_search = grid_search.fit(X_train_pcs, y_train_pcs)\n",
    "\n",
    "print(\"best accuracy is :\" , grid_search.best_score_)\n",
    "\n",
    "grid_search.best_estimator_.alpha   # best_parms_  is a method in Grid Search to return The Best with resepct to the Metric "
   ]
  },
  {
   "cell_type": "code",
   "execution_count": 334,
   "metadata": {},
   "outputs": [
    {
     "data": {
      "text/plain": [
       "47.81983419263124"
      ]
     },
     "execution_count": 334,
     "metadata": {},
     "output_type": "execute_result"
    }
   ],
   "source": [
    "rdg_mse = mean_squared_error(y_test_pcs, ridge.predict(poly.transform(X_test_pcs)))\n",
    "lst_rdg.append(rdg_mse)\n",
    "rdg_mse"
   ]
  },
  {
   "cell_type": "code",
   "execution_count": 335,
   "metadata": {},
   "outputs": [
    {
     "data": {
      "text/plain": [
       "0.8184408284872393"
      ]
     },
     "execution_count": 335,
     "metadata": {},
     "output_type": "execute_result"
    }
   ],
   "source": [
    "rdg_r2 = r2_score(y_test_pcs, ridge.predict(poly.transform(X_test_pcs)))\n",
    "lst_rdg.append(rdg_r2)\n",
    "rdg_r2"
   ]
  },
  {
   "cell_type": "code",
   "execution_count": 336,
   "metadata": {},
   "outputs": [],
   "source": [
    "lst_pca.append(lst_rdg)"
   ]
  },
  {
   "cell_type": "markdown",
   "metadata": {},
   "source": [
    "### Lasso Regression"
   ]
  },
  {
   "cell_type": "code",
   "execution_count": 337,
   "metadata": {},
   "outputs": [
    {
     "data": {
      "text/plain": [
       "Lasso(alpha=0.001, normalize=True)"
      ]
     },
     "execution_count": 337,
     "metadata": {},
     "output_type": "execute_result"
    }
   ],
   "source": [
    "# Select the best alpha for Lasso Regression\n",
    "from sklearn.linear_model import Lasso\n",
    "lasso = Lasso(alpha = 0.001, normalize = True)\n",
    "lasso.fit(poly.fit_transform(X_train_pcs), y_train_pcs)"
   ]
  },
  {
   "cell_type": "code",
   "execution_count": 338,
   "metadata": {},
   "outputs": [
    {
     "name": "stdout",
     "output_type": "stream",
     "text": [
      "Accuracy: 57.56935% (5.62883%)\n"
     ]
    }
   ],
   "source": [
    "results = cross_val_score(estimator = lasso, X = X_train_pcs, y = y_train_pcs, cv = 10)\n",
    "print(\"Accuracy: %.5f%% (%.5f%%)\" % (results.mean()*100.0, results.std()*100.0))"
   ]
  },
  {
   "cell_type": "code",
   "execution_count": 339,
   "metadata": {},
   "outputs": [
    {
     "name": "stdout",
     "output_type": "stream",
     "text": [
      "best accuracy is : 0.5756935022265074\n"
     ]
    },
    {
     "data": {
      "text/plain": [
       "0.001"
      ]
     },
     "execution_count": 339,
     "metadata": {},
     "output_type": "execute_result"
    }
   ],
   "source": [
    "parameters = [{'alpha': [1e-15, 1e-10, 1e-8, 1e-5, 1e-4, 1e-3, 1e-2, 1, 5, 10, 20, 30, 40]}]\n",
    "\n",
    "grid_search = GridSearchCV(estimator = lasso,\n",
    "                           param_grid = parameters,\n",
    "                           scoring = make_scorer(r2_score),\n",
    "                           cv=10,\n",
    "                           n_jobs = 3)\n",
    " \n",
    "grid_search = grid_search.fit(X_train_pcs, y_train_pcs)\n",
    "\n",
    "print(\"best accuracy is :\" , grid_search.best_score_)\n",
    "\n",
    "grid_search.best_estimator_.alpha"
   ]
  },
  {
   "cell_type": "code",
   "execution_count": 340,
   "metadata": {},
   "outputs": [
    {
     "data": {
      "text/plain": [
       "42.414970001754256"
      ]
     },
     "execution_count": 340,
     "metadata": {},
     "output_type": "execute_result"
    }
   ],
   "source": [
    "las_mse = mean_squared_error(y_test_pcs, lasso.predict(poly.transform(X_test_pcs)))\n",
    "lst_las.append(las_mse)\n",
    "las_mse"
   ]
  },
  {
   "cell_type": "code",
   "execution_count": 341,
   "metadata": {},
   "outputs": [
    {
     "data": {
      "text/plain": [
       "0.8389616579966362"
      ]
     },
     "execution_count": 341,
     "metadata": {},
     "output_type": "execute_result"
    }
   ],
   "source": [
    "las_r2 = r2_score(y_test_pcs, lasso.predict(poly.transform(X_test_pcs)))\n",
    "lst_las.append(las_r2)\n",
    "las_r2"
   ]
  },
  {
   "cell_type": "code",
   "execution_count": 342,
   "metadata": {},
   "outputs": [],
   "source": [
    "lst_pca.append(lst_las)"
   ]
  },
  {
   "cell_type": "code",
   "execution_count": 343,
   "metadata": {},
   "outputs": [
    {
     "data": {
      "text/plain": [
       "[['Linear Regression', 99.30529739292021, 0.622964240133957],\n",
       " ['Polynomial Regression', 42.144825510132726, 0.8399873246664529],\n",
       " ['Ridge Regression', 47.81983419263124, 0.8184408284872393],\n",
       " ['Lasso Regression', 42.414970001754256, 0.8389616579966362]]"
      ]
     },
     "execution_count": 343,
     "metadata": {},
     "output_type": "execute_result"
    }
   ],
   "source": [
    "lst_pca"
   ]
  },
  {
   "cell_type": "code",
   "execution_count": 344,
   "metadata": {},
   "outputs": [
    {
     "data": {
      "text/html": [
       "<div>\n",
       "<style scoped>\n",
       "    .dataframe tbody tr th:only-of-type {\n",
       "        vertical-align: middle;\n",
       "    }\n",
       "\n",
       "    .dataframe tbody tr th {\n",
       "        vertical-align: top;\n",
       "    }\n",
       "\n",
       "    .dataframe thead th {\n",
       "        text-align: right;\n",
       "    }\n",
       "</style>\n",
       "<table border=\"1\" class=\"dataframe\">\n",
       "  <thead>\n",
       "    <tr style=\"text-align: right;\">\n",
       "      <th></th>\n",
       "      <th>Regression type</th>\n",
       "      <th>Mean Squared Error</th>\n",
       "      <th>R2 Score</th>\n",
       "    </tr>\n",
       "  </thead>\n",
       "  <tbody>\n",
       "    <tr>\n",
       "      <th>0</th>\n",
       "      <td>Linear Regression</td>\n",
       "      <td>99.305297</td>\n",
       "      <td>0.622964</td>\n",
       "    </tr>\n",
       "    <tr>\n",
       "      <th>1</th>\n",
       "      <td>Polynomial Regression</td>\n",
       "      <td>42.144826</td>\n",
       "      <td>0.839987</td>\n",
       "    </tr>\n",
       "    <tr>\n",
       "      <th>2</th>\n",
       "      <td>Ridge Regression</td>\n",
       "      <td>47.819834</td>\n",
       "      <td>0.818441</td>\n",
       "    </tr>\n",
       "    <tr>\n",
       "      <th>3</th>\n",
       "      <td>Lasso Regression</td>\n",
       "      <td>42.414970</td>\n",
       "      <td>0.838962</td>\n",
       "    </tr>\n",
       "  </tbody>\n",
       "</table>\n",
       "</div>"
      ],
      "text/plain": [
       "         Regression type  Mean Squared Error  R2 Score\n",
       "0      Linear Regression           99.305297  0.622964\n",
       "1  Polynomial Regression           42.144826  0.839987\n",
       "2       Ridge Regression           47.819834  0.818441\n",
       "3       Lasso Regression           42.414970  0.838962"
      ]
     },
     "execution_count": 344,
     "metadata": {},
     "output_type": "execute_result"
    }
   ],
   "source": [
    "df_reg = pd.DataFrame(lst_pca, columns = ['Regression type', 'Mean Squared Error', 'R2 Score'])\n",
    "df_reg"
   ]
  },
  {
   "cell_type": "code",
   "execution_count": 345,
   "metadata": {},
   "outputs": [
    {
     "data": {
      "text/plain": [
       "Regression type       Polynomial Regression\n",
       "Mean Squared Error                  42.1448\n",
       "R2 Score                           0.839987\n",
       "Name: 1, dtype: object"
      ]
     },
     "execution_count": 345,
     "metadata": {},
     "output_type": "execute_result"
    }
   ],
   "source": [
    "df_reg.iloc[df_reg['R2 Score'].idxmax()]"
   ]
  },
  {
   "cell_type": "code",
   "execution_count": 347,
   "metadata": {},
   "outputs": [
    {
     "data": {
      "image/png": "[encoded data removed]",
      "text/plain": [
       "<Figure size 432x288 with 1 Axes>"
      ]
     },
     "metadata": {},
     "output_type": "display_data"
    }
   ],
   "source": [
    "plt.title('Polnomial Regression')\n",
    "plt.plot(y_test_pcs, '.', pol_reg.predict(poly.transform(X_test_pcs)), '-o')\n",
    "plt.show()"
   ]
  },
  {
   "cell_type": "code",
   "execution_count": null,
   "metadata": {},
   "outputs": [],
   "source": []
  }
 ],
 "metadata": {
  "colab": {
   "name": "ٌRegression CapStone.ipynb",
   "provenance": []
  },
  "kernelspec": {
   "display_name": "Python 3",
   "language": "python",
   "name": "python3"
  },
  "language_info": {
   "codemirror_mode": {
    "name": "ipython",
    "version": 3
   },
   "file_extension": ".py",
   "mimetype": "text/x-python",
   "name": "python",
   "nbconvert_exporter": "python",
   "pygments_lexer": "ipython3",
   "version": "3.8.5"
  }
 },
 "nbformat": 4,
 "nbformat_minor": 4
}
